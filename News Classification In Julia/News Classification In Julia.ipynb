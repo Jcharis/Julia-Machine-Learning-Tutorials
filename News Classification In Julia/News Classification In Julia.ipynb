{
 "cells": [
  {
   "cell_type": "markdown",
   "metadata": {},
   "source": [
    "## News Classification With ML in Julia\n",
    "+ Aim: To Classify news feeds into their respective categories\n",
    "+ Using News Feed from Reuters\n"
   ]
  },
  {
   "cell_type": "code",
   "execution_count": 1,
   "metadata": {},
   "outputs": [],
   "source": [
    "# ED Packages\n",
    "using DataFrames"
   ]
  },
  {
   "cell_type": "code",
   "execution_count": 2,
   "metadata": {},
   "outputs": [],
   "source": [
    "# ML Packages\n",
    "using ScikitLearn: fit!,fit_transform!,predict,@sk_import"
   ]
  },
  {
   "cell_type": "code",
   "execution_count": 3,
   "metadata": {},
   "outputs": [
    {
     "data": {
      "text/html": [
       "<table class=\"data-frame\"><thead><tr><th></th><th>x</th><th>Title</th><th>Description</th><th>Short_description</th><th>Category</th><th>CategoryID</th></tr></thead><tbody><tr><th>1</th><td>0</td><td>Bank stocks lead Wall Street lower amid Syria tensions, Russia trade threat</td><td>NEW YORK (Reuters) - Financial stocks led a drop on Wall Street on Friday, as results from big banks failed to enthuse and geopolitical tensions in Syria and Russia further unnerved investors.&lt;div class=\"feedflare\"&gt;\n",
       "&lt;a href=\"http://feeds.reuters.com/~ff/reuters/businessNews?a=G0SWmsbH8M8:33ar9b0m6EQ:yIl2AUoC8zA\"&gt;&lt;img src=\"http://feeds.feedburner.com/~ff/reuters/businessNews?d=yIl2AUoC8zA\" border=\"0\"&gt;&lt;/img&gt;&lt;/a&gt; &lt;a href=\"http://feeds.reuters.com/~ff/reuters/businessNews?a=G0SWmsbH8M8:33ar9b0m6EQ:F7zBnMyn0Lo\"&gt;&lt;img src=\"http://feeds.feedburner.com/~ff/reuters/businessNews?i=G0SWmsbH8M8:33ar9b0m6EQ:F7zBnMyn0Lo\" border=\"0\"&gt;&lt;/img&gt;&lt;/a&gt; &lt;a href=\"http://feeds.reuters.com/~ff/reuters/businessNews?a=G0SWmsbH8M8:33ar9b0m6EQ:V_sGLiPBpWU\"&gt;&lt;img src=\"http://feeds.feedburner.com/~ff/reuters/businessNews?i=G0SWmsbH8M8:33ar9b0m6EQ:V_sGLiPBpWU\" border=\"0\"&gt;&lt;/img&gt;&lt;/a&gt;\n",
       "&lt;/div&gt;&lt;img src=\"http://feeds.feedburner.com/~r/reuters/businessNews/~4/G0SWmsbH8M8\" height=\"1\" width=\"1\" alt=\"\"/&gt;</td><td>Financial stocks led a drop on Wall Street on Friday, as results from big banks failed to enthuse and geopolitical tensions in Syria and Russia further unnerved investors.</td><td>businessNews</td><td>0</td></tr><tr><th>2</th><td>1</td><td>Trade war backfire: Steel tariff shrapnel hits U.S. farmers</td><td>KANE COUNTY, Ill. (Reuters) - Lucas Strom, who runs a century-old family farm in rural Illinois, canceled an order to buy a new $71,000 grain storage bin last month - after the seller raised the price 5 percent in a day.&lt;div class=\"feedflare\"&gt;\n",
       "&lt;a href=\"http://feeds.reuters.com/~ff/reuters/businessNews?a=IcCT8ct9dWo:jH0mYilf2Lk:yIl2AUoC8zA\"&gt;&lt;img src=\"http://feeds.feedburner.com/~ff/reuters/businessNews?d=yIl2AUoC8zA\" border=\"0\"&gt;&lt;/img&gt;&lt;/a&gt; &lt;a href=\"http://feeds.reuters.com/~ff/reuters/businessNews?a=IcCT8ct9dWo:jH0mYilf2Lk:F7zBnMyn0Lo\"&gt;&lt;img src=\"http://feeds.feedburner.com/~ff/reuters/businessNews?i=IcCT8ct9dWo:jH0mYilf2Lk:F7zBnMyn0Lo\" border=\"0\"&gt;&lt;/img&gt;&lt;/a&gt; &lt;a href=\"http://feeds.reuters.com/~ff/reuters/businessNews?a=IcCT8ct9dWo:jH0mYilf2Lk:V_sGLiPBpWU\"&gt;&lt;img src=\"http://feeds.feedburner.com/~ff/reuters/businessNews?i=IcCT8ct9dWo:jH0mYilf2Lk:V_sGLiPBpWU\" border=\"0\"&gt;&lt;/img&gt;&lt;/a&gt;\n",
       "&lt;/div&gt;&lt;img src=\"http://feeds.feedburner.com/~r/reuters/businessNews/~4/IcCT8ct9dWo\" height=\"1\" width=\"1\" alt=\"\"/&gt;</td><td>Lucas Strom, who runs a century-old family farm in rural Illinois, canceled an order to buy a new $71,000 grain storage bin last month - after the seller raised the price 5 percent in a day.</td><td>businessNews</td><td>0</td></tr><tr><th>3</th><td>2</td><td>U.S. bank executives see delayed boost from tax overhaul</td><td>NEW YORK (Reuters) - Banks have not reaped the full benefit of U.S. tax cuts, Wall Street executives said on Friday after a string of quarterly results, with expected business growth and higher consumer spending yet to materialize.&lt;div class=\"feedflare\"&gt;\n",
       "&lt;a href=\"http://feeds.reuters.com/~ff/reuters/businessNews?a=5a03Bd5Ukl0:TGC4nJJnkyY:yIl2AUoC8zA\"&gt;&lt;img src=\"http://feeds.feedburner.com/~ff/reuters/businessNews?d=yIl2AUoC8zA\" border=\"0\"&gt;&lt;/img&gt;&lt;/a&gt; &lt;a href=\"http://feeds.reuters.com/~ff/reuters/businessNews?a=5a03Bd5Ukl0:TGC4nJJnkyY:F7zBnMyn0Lo\"&gt;&lt;img src=\"http://feeds.feedburner.com/~ff/reuters/businessNews?i=5a03Bd5Ukl0:TGC4nJJnkyY:F7zBnMyn0Lo\" border=\"0\"&gt;&lt;/img&gt;&lt;/a&gt; &lt;a href=\"http://feeds.reuters.com/~ff/reuters/businessNews?a=5a03Bd5Ukl0:TGC4nJJnkyY:V_sGLiPBpWU\"&gt;&lt;img src=\"http://feeds.feedburner.com/~ff/reuters/businessNews?i=5a03Bd5Ukl0:TGC4nJJnkyY:V_sGLiPBpWU\" border=\"0\"&gt;&lt;/img&gt;&lt;/a&gt;\n",
       "&lt;/div&gt;&lt;img src=\"http://feeds.feedburner.com/~r/reuters/businessNews/~4/5a03Bd5Ukl0\" height=\"1\" width=\"1\" alt=\"\"/&gt;</td><td>Banks have not reaped the full benefit of U.S. tax cuts, Wall Street executives said on Friday after a string of quarterly results, with expected business growth and higher consumer spending yet to materialize.</td><td>businessNews</td><td>0</td></tr><tr><th>4</th><td>3</td><td>Wells Fargo faces $1 billion fine from loan abuses</td><td>(Reuters) - Two U.S. regulators have proposed Wells Fargo &amp; Co  pay $1 billion in penalties to resolve probes into auto insurance and mortgage lending abuses at the third largest U.S. bank, overshadowing its first quarter results.&lt;div class=\"feedflare\"&gt;\n",
       "&lt;a href=\"http://feeds.reuters.com/~ff/reuters/businessNews?a=NQDCk4oW0xg:on4nnZIHetc:yIl2AUoC8zA\"&gt;&lt;img src=\"http://feeds.feedburner.com/~ff/reuters/businessNews?d=yIl2AUoC8zA\" border=\"0\"&gt;&lt;/img&gt;&lt;/a&gt; &lt;a href=\"http://feeds.reuters.com/~ff/reuters/businessNews?a=NQDCk4oW0xg:on4nnZIHetc:F7zBnMyn0Lo\"&gt;&lt;img src=\"http://feeds.feedburner.com/~ff/reuters/businessNews?i=NQDCk4oW0xg:on4nnZIHetc:F7zBnMyn0Lo\" border=\"0\"&gt;&lt;/img&gt;&lt;/a&gt; &lt;a href=\"http://feeds.reuters.com/~ff/reuters/businessNews?a=NQDCk4oW0xg:on4nnZIHetc:V_sGLiPBpWU\"&gt;&lt;img src=\"http://feeds.feedburner.com/~ff/reuters/businessNews?i=NQDCk4oW0xg:on4nnZIHetc:V_sGLiPBpWU\" border=\"0\"&gt;&lt;/img&gt;&lt;/a&gt;\n",
       "&lt;/div&gt;&lt;img src=\"http://feeds.feedburner.com/~r/reuters/businessNews/~4/NQDCk4oW0xg\" height=\"1\" width=\"1\" alt=\"\"/&gt;</td><td>Two U.S. regulators have proposed Wells Fargo &amp; Co  pay $1 billion in penalties to resolve probes into auto insurance and mortgage lending abuses at the third largest U.S. bank, overshadowing its first quarter results.</td><td>businessNews</td><td>0</td></tr><tr><th>5</th><td>4</td><td>Musk insists Tesla does not need more capital, predicts profit soon</td><td>(Reuters) - Tesla Inc  will be profitable in the third and fourth quarters of this year and will not have to raise any money from investors, billionaire Chief Executive Elon Musk said on Friday, driving shares in the electric carmaker higher.&lt;div class=\"feedflare\"&gt;\n",
       "&lt;a href=\"http://feeds.reuters.com/~ff/reuters/businessNews?a=zo3y0Mf7Zjo:hQ02jg-2APU:yIl2AUoC8zA\"&gt;&lt;img src=\"http://feeds.feedburner.com/~ff/reuters/businessNews?d=yIl2AUoC8zA\" border=\"0\"&gt;&lt;/img&gt;&lt;/a&gt; &lt;a href=\"http://feeds.reuters.com/~ff/reuters/businessNews?a=zo3y0Mf7Zjo:hQ02jg-2APU:F7zBnMyn0Lo\"&gt;&lt;img src=\"http://feeds.feedburner.com/~ff/reuters/businessNews?i=zo3y0Mf7Zjo:hQ02jg-2APU:F7zBnMyn0Lo\" border=\"0\"&gt;&lt;/img&gt;&lt;/a&gt; &lt;a href=\"http://feeds.reuters.com/~ff/reuters/businessNews?a=zo3y0Mf7Zjo:hQ02jg-2APU:V_sGLiPBpWU\"&gt;&lt;img src=\"http://feeds.feedburner.com/~ff/reuters/businessNews?i=zo3y0Mf7Zjo:hQ02jg-2APU:V_sGLiPBpWU\" border=\"0\"&gt;&lt;/img&gt;&lt;/a&gt;\n",
       "&lt;/div&gt;&lt;img src=\"http://feeds.feedburner.com/~r/reuters/businessNews/~4/zo3y0Mf7Zjo\" height=\"1\" width=\"1\" alt=\"\"/&gt;</td><td>Tesla Inc  will be profitable in the third and fourth quarters of this year and will not have to raise any money from investors, billionaire Chief Executive Elon Musk said on Friday, driving shares in the electric carmaker higher.</td><td>businessNews</td><td>0</td></tr><tr><th>6</th><td>5</td><td>Bratz maker's CEO bids $890 million for Toys 'R' Us stores</td><td>(Reuters) - Bratz doll maker MGA Entertainment said on Friday its billionaire founder and chief executive, Isaac Larian, had made an $890 million bid for Toys 'R' Us stores in the United States and Canada.&lt;div class=\"feedflare\"&gt;\n",
       "&lt;a href=\"http://feeds.reuters.com/~ff/reuters/businessNews?a=xe8bEx_LW4I:mjPqCSLeO8o:yIl2AUoC8zA\"&gt;&lt;img src=\"http://feeds.feedburner.com/~ff/reuters/businessNews?d=yIl2AUoC8zA\" border=\"0\"&gt;&lt;/img&gt;&lt;/a&gt; &lt;a href=\"http://feeds.reuters.com/~ff/reuters/businessNews?a=xe8bEx_LW4I:mjPqCSLeO8o:F7zBnMyn0Lo\"&gt;&lt;img src=\"http://feeds.feedburner.com/~ff/reuters/businessNews?i=xe8bEx_LW4I:mjPqCSLeO8o:F7zBnMyn0Lo\" border=\"0\"&gt;&lt;/img&gt;&lt;/a&gt; &lt;a href=\"http://feeds.reuters.com/~ff/reuters/businessNews?a=xe8bEx_LW4I:mjPqCSLeO8o:V_sGLiPBpWU\"&gt;&lt;img src=\"http://feeds.feedburner.com/~ff/reuters/businessNews?i=xe8bEx_LW4I:mjPqCSLeO8o:V_sGLiPBpWU\" border=\"0\"&gt;&lt;/img&gt;&lt;/a&gt;\n",
       "&lt;/div&gt;&lt;img src=\"http://feeds.feedburner.com/~r/reuters/businessNews/~4/xe8bEx_LW4I\" height=\"1\" width=\"1\" alt=\"\"/&gt;</td><td>Bratz doll maker MGA Entertainment said on Friday its billionaire founder and chief executive, Isaac Larian, had made an $890 million bid for Toys 'R' Us stores in the United States and Canada.</td><td>businessNews</td><td>0</td></tr><tr><th>7</th><td>6</td><td>JPMorgan profit just below estimates on weak investment banking</td><td>(Reuters) - JPMorgan Chase &amp; Co's  quarterly profit fell short of Wall Street expectations on Friday as lower revenue from investment banking ate into gains from stock trading and higher interest rates.&lt;div class=\"feedflare\"&gt;\n",
       "&lt;a href=\"http://feeds.reuters.com/~ff/reuters/businessNews?a=l3qxaEtfiV4:BRxBvlfJOXI:yIl2AUoC8zA\"&gt;&lt;img src=\"http://feeds.feedburner.com/~ff/reuters/businessNews?d=yIl2AUoC8zA\" border=\"0\"&gt;&lt;/img&gt;&lt;/a&gt; &lt;a href=\"http://feeds.reuters.com/~ff/reuters/businessNews?a=l3qxaEtfiV4:BRxBvlfJOXI:F7zBnMyn0Lo\"&gt;&lt;img src=\"http://feeds.feedburner.com/~ff/reuters/businessNews?i=l3qxaEtfiV4:BRxBvlfJOXI:F7zBnMyn0Lo\" border=\"0\"&gt;&lt;/img&gt;&lt;/a&gt; &lt;a href=\"http://feeds.reuters.com/~ff/reuters/businessNews?a=l3qxaEtfiV4:BRxBvlfJOXI:V_sGLiPBpWU\"&gt;&lt;img src=\"http://feeds.feedburner.com/~ff/reuters/businessNews?i=l3qxaEtfiV4:BRxBvlfJOXI:V_sGLiPBpWU\" border=\"0\"&gt;&lt;/img&gt;&lt;/a&gt;\n",
       "&lt;/div&gt;&lt;img src=\"http://feeds.feedburner.com/~r/reuters/businessNews/~4/l3qxaEtfiV4\" height=\"1\" width=\"1\" alt=\"\"/&gt;</td><td>JPMorgan Chase &amp; Co's  quarterly profit fell short of Wall Street expectations on Friday as lower revenue from investment banking ate into gains from stock trading and higher interest rates.</td><td>businessNews</td><td>0</td></tr><tr><th>8</th><td>7</td><td>Wells Fargo CFO says government, not banks, should set gun policy</td><td>NEW YORK (Reuters) - Wells Fargo &amp; Co  believes the U.S. government, rather than banks, should set rules to promote gun safety, its finance chief said on Friday.&lt;div class=\"feedflare\"&gt;\n",
       "&lt;a href=\"http://feeds.reuters.com/~ff/reuters/businessNews?a=xkk2vSKA2Cg:EP_bGlxEbNs:yIl2AUoC8zA\"&gt;&lt;img src=\"http://feeds.feedburner.com/~ff/reuters/businessNews?d=yIl2AUoC8zA\" border=\"0\"&gt;&lt;/img&gt;&lt;/a&gt; &lt;a href=\"http://feeds.reuters.com/~ff/reuters/businessNews?a=xkk2vSKA2Cg:EP_bGlxEbNs:F7zBnMyn0Lo\"&gt;&lt;img src=\"http://feeds.feedburner.com/~ff/reuters/businessNews?i=xkk2vSKA2Cg:EP_bGlxEbNs:F7zBnMyn0Lo\" border=\"0\"&gt;&lt;/img&gt;&lt;/a&gt; &lt;a href=\"http://feeds.reuters.com/~ff/reuters/businessNews?a=xkk2vSKA2Cg:EP_bGlxEbNs:V_sGLiPBpWU\"&gt;&lt;img src=\"http://feeds.feedburner.com/~ff/reuters/businessNews?i=xkk2vSKA2Cg:EP_bGlxEbNs:V_sGLiPBpWU\" border=\"0\"&gt;&lt;/img&gt;&lt;/a&gt;\n",
       "&lt;/div&gt;&lt;img src=\"http://feeds.feedburner.com/~r/reuters/businessNews/~4/xkk2vSKA2Cg\" height=\"1\" width=\"1\" alt=\"\"/&gt;</td><td>Wells Fargo &amp; Co  believes the U.S. government, rather than banks, should set rules to promote gun safety, its finance chief said on Friday.</td><td>businessNews</td><td>0</td></tr><tr><th>9</th><td>8</td><td>Citigroup profit beats on strength in consumer banking, equity trading</td><td>(Reuters) - Citigroup Inc  reported a higher-than-expected quarterly profit on Friday, driven by strength in its consumer banking business and a surge in equities trading.&lt;div class=\"feedflare\"&gt;\n",
       "&lt;a href=\"http://feeds.reuters.com/~ff/reuters/businessNews?a=hI3ZIZUksTE:IVWNcqLMr3I:yIl2AUoC8zA\"&gt;&lt;img src=\"http://feeds.feedburner.com/~ff/reuters/businessNews?d=yIl2AUoC8zA\" border=\"0\"&gt;&lt;/img&gt;&lt;/a&gt; &lt;a href=\"http://feeds.reuters.com/~ff/reuters/businessNews?a=hI3ZIZUksTE:IVWNcqLMr3I:F7zBnMyn0Lo\"&gt;&lt;img src=\"http://feeds.feedburner.com/~ff/reuters/businessNews?i=hI3ZIZUksTE:IVWNcqLMr3I:F7zBnMyn0Lo\" border=\"0\"&gt;&lt;/img&gt;&lt;/a&gt; &lt;a href=\"http://feeds.reuters.com/~ff/reuters/businessNews?a=hI3ZIZUksTE:IVWNcqLMr3I:V_sGLiPBpWU\"&gt;&lt;img src=\"http://feeds.feedburner.com/~ff/reuters/businessNews?i=hI3ZIZUksTE:IVWNcqLMr3I:V_sGLiPBpWU\" border=\"0\"&gt;&lt;/img&gt;&lt;/a&gt;\n",
       "&lt;/div&gt;&lt;img src=\"http://feeds.feedburner.com/~r/reuters/businessNews/~4/hI3ZIZUksTE\" height=\"1\" width=\"1\" alt=\"\"/&gt;</td><td>Citigroup Inc  reported a higher-than-expected quarterly profit on Friday, driven by strength in its consumer banking business and a surge in equities trading.</td><td>businessNews</td><td>0</td></tr><tr><th>10</th><td>9</td><td>Trump orders review of U.S. Postal Service following criticism of Amazon</td><td>WASHINGTON (Reuters) - U.S. President Donald Trump on Thursday ordered the creation of a task force to study the U.S. Postal Service and its financial difficulties, after recently claiming without evidence that deliveries for Amazon.com Inc  were costing the service money.&lt;div class=\"feedflare\"&gt;\n",
       "&lt;a href=\"http://feeds.reuters.com/~ff/reuters/businessNews?a=hRTXiHbt-4M:oMj-m2zvads:yIl2AUoC8zA\"&gt;&lt;img src=\"http://feeds.feedburner.com/~ff/reuters/businessNews?d=yIl2AUoC8zA\" border=\"0\"&gt;&lt;/img&gt;&lt;/a&gt; &lt;a href=\"http://feeds.reuters.com/~ff/reuters/businessNews?a=hRTXiHbt-4M:oMj-m2zvads:F7zBnMyn0Lo\"&gt;&lt;img src=\"http://feeds.feedburner.com/~ff/reuters/businessNews?i=hRTXiHbt-4M:oMj-m2zvads:F7zBnMyn0Lo\" border=\"0\"&gt;&lt;/img&gt;&lt;/a&gt; &lt;a href=\"http://feeds.reuters.com/~ff/reuters/businessNews?a=hRTXiHbt-4M:oMj-m2zvads:V_sGLiPBpWU\"&gt;&lt;img src=\"http://feeds.feedburner.com/~ff/reuters/businessNews?i=hRTXiHbt-4M:oMj-m2zvads:V_sGLiPBpWU\" border=\"0\"&gt;&lt;/img&gt;&lt;/a&gt;\n",
       "&lt;/div&gt;&lt;img src=\"http://feeds.feedburner.com/~r/reuters/businessNews/~4/hRTXiHbt-4M\" height=\"1\" width=\"1\" alt=\"\"/&gt;</td><td>U.S. President Donald Trump on Thursday ordered the creation of a task force to study the U.S. Postal Service and its financial difficulties, after recently claiming without evidence that deliveries for Amazon.com Inc  were costing the service money.</td><td>businessNews</td><td>0</td></tr><tr><th>11</th><td>10</td><td>Motor racing: Hamilton fastest in China practice but Ferrari close</td><td>SHANGHAI (Reuters) - Formula One world champion Lewis Hamilton edged out Kimi Raikkonen at the top of the timesheets as Ferrari ended the opening day of practice for Sunday’s Chinese Grand Prix hot on pacesetter Mercedes’ heels.&lt;div class=\"feedflare\"&gt;\n",
       "&lt;a href=\"http://feeds.reuters.com/~ff/reuters/sportsNews?a=el5e9oqF7ew:pbCZjaCt9bU:yIl2AUoC8zA\"&gt;&lt;img src=\"http://feeds.feedburner.com/~ff/reuters/sportsNews?d=yIl2AUoC8zA\" border=\"0\"&gt;&lt;/img&gt;&lt;/a&gt; &lt;a href=\"http://feeds.reuters.com/~ff/reuters/sportsNews?a=el5e9oqF7ew:pbCZjaCt9bU:F7zBnMyn0Lo\"&gt;&lt;img src=\"http://feeds.feedburner.com/~ff/reuters/sportsNews?i=el5e9oqF7ew:pbCZjaCt9bU:F7zBnMyn0Lo\" border=\"0\"&gt;&lt;/img&gt;&lt;/a&gt; &lt;a href=\"http://feeds.reuters.com/~ff/reuters/sportsNews?a=el5e9oqF7ew:pbCZjaCt9bU:V_sGLiPBpWU\"&gt;&lt;img src=\"http://feeds.feedburner.com/~ff/reuters/sportsNews?i=el5e9oqF7ew:pbCZjaCt9bU:V_sGLiPBpWU\" border=\"0\"&gt;&lt;/img&gt;&lt;/a&gt;\n",
       "&lt;/div&gt;&lt;img src=\"http://feeds.feedburner.com/~r/reuters/sportsNews/~4/el5e9oqF7ew\" height=\"1\" width=\"1\" alt=\"\"/&gt;</td><td>Formula One world champion Lewis Hamilton edged out Kimi Raikkonen at the top of the timesheets as Ferrari ended the opening day of practice for Sunday’s Chinese Grand Prix hot on pacesetter Mercedes’ heels.</td><td>sportsNews</td><td>1</td></tr><tr><th>12</th><td>11</td><td>NBA: Record number of international players reach postseason</td><td>(Reuters) - The NBA postseason will have a distinct international flair with a record 62 foreign born players from 33 countries chasing a championship ring, the league said on Thursday.&lt;div class=\"feedflare\"&gt;\n",
       "&lt;a href=\"http://feeds.reuters.com/~ff/reuters/sportsNews?a=q7j5lbs9es0:b4cqZ9-2H9U:yIl2AUoC8zA\"&gt;&lt;img src=\"http://feeds.feedburner.com/~ff/reuters/sportsNews?d=yIl2AUoC8zA\" border=\"0\"&gt;&lt;/img&gt;&lt;/a&gt; &lt;a href=\"http://feeds.reuters.com/~ff/reuters/sportsNews?a=q7j5lbs9es0:b4cqZ9-2H9U:F7zBnMyn0Lo\"&gt;&lt;img src=\"http://feeds.feedburner.com/~ff/reuters/sportsNews?i=q7j5lbs9es0:b4cqZ9-2H9U:F7zBnMyn0Lo\" border=\"0\"&gt;&lt;/img&gt;&lt;/a&gt; &lt;a href=\"http://feeds.reuters.com/~ff/reuters/sportsNews?a=q7j5lbs9es0:b4cqZ9-2H9U:V_sGLiPBpWU\"&gt;&lt;img src=\"http://feeds.feedburner.com/~ff/reuters/sportsNews?i=q7j5lbs9es0:b4cqZ9-2H9U:V_sGLiPBpWU\" border=\"0\"&gt;&lt;/img&gt;&lt;/a&gt;\n",
       "&lt;/div&gt;&lt;img src=\"http://feeds.feedburner.com/~r/reuters/sportsNews/~4/q7j5lbs9es0\" height=\"1\" width=\"1\" alt=\"\"/&gt;</td><td>The NBA postseason will have a distinct international flair with a record 62 foreign born players from 33 countries chasing a championship ring, the league said on Thursday.</td><td>sportsNews</td><td>1</td></tr><tr><th>13</th><td>12</td><td>Motor racing: F1 has set a May date for engine rules, says Arrivabene</td><td>SHANGHAI (Reuters) - Formula One's commercial rights holders want a decision on post-2020 engine regulations to be decided by the end of May, Ferrari team-principal Maurizio Arrivabene told reporters on Friday.&lt;div class=\"feedflare\"&gt;\n",
       "&lt;a href=\"http://feeds.reuters.com/~ff/reuters/sportsNews?a=b1reSPubgLQ:VFVJwndARrU:yIl2AUoC8zA\"&gt;&lt;img src=\"http://feeds.feedburner.com/~ff/reuters/sportsNews?d=yIl2AUoC8zA\" border=\"0\"&gt;&lt;/img&gt;&lt;/a&gt; &lt;a href=\"http://feeds.reuters.com/~ff/reuters/sportsNews?a=b1reSPubgLQ:VFVJwndARrU:F7zBnMyn0Lo\"&gt;&lt;img src=\"http://feeds.feedburner.com/~ff/reuters/sportsNews?i=b1reSPubgLQ:VFVJwndARrU:F7zBnMyn0Lo\" border=\"0\"&gt;&lt;/img&gt;&lt;/a&gt; &lt;a href=\"http://feeds.reuters.com/~ff/reuters/sportsNews?a=b1reSPubgLQ:VFVJwndARrU:V_sGLiPBpWU\"&gt;&lt;img src=\"http://feeds.feedburner.com/~ff/reuters/sportsNews?i=b1reSPubgLQ:VFVJwndARrU:V_sGLiPBpWU\" border=\"0\"&gt;&lt;/img&gt;&lt;/a&gt;\n",
       "&lt;/div&gt;&lt;img src=\"http://feeds.feedburner.com/~r/reuters/sportsNews/~4/b1reSPubgLQ\" height=\"1\" width=\"1\" alt=\"\"/&gt;</td><td>Formula One's commercial rights holders want a decision on post-2020 engine regulations to be decided by the end of May, Ferrari team-principal Maurizio Arrivabene told reporters on Friday.</td><td>sportsNews</td><td>1</td></tr><tr><th>14</th><td>13</td><td>Soccer: Qualifying for new Club World Cup would take place over four seasons</td><td>ZURICH (Reuters) - FIFA has proposed that a revamped and enlarged version of the Club World Cup, planned to start in 2021, would include all European champions, runners-up and Europa League winners from  the four seasons up to and including the year of the event.&lt;div class=\"feedflare\"&gt;\n",
       "&lt;a href=\"http://feeds.reuters.com/~ff/reuters/sportsNews?a=BY1obm3kUZo:O_adrhcC7y8:yIl2AUoC8zA\"&gt;&lt;img src=\"http://feeds.feedburner.com/~ff/reuters/sportsNews?d=yIl2AUoC8zA\" border=\"0\"&gt;&lt;/img&gt;&lt;/a&gt; &lt;a href=\"http://feeds.reuters.com/~ff/reuters/sportsNews?a=BY1obm3kUZo:O_adrhcC7y8:F7zBnMyn0Lo\"&gt;&lt;img src=\"http://feeds.feedburner.com/~ff/reuters/sportsNews?i=BY1obm3kUZo:O_adrhcC7y8:F7zBnMyn0Lo\" border=\"0\"&gt;&lt;/img&gt;&lt;/a&gt; &lt;a href=\"http://feeds.reuters.com/~ff/reuters/sportsNews?a=BY1obm3kUZo:O_adrhcC7y8:V_sGLiPBpWU\"&gt;&lt;img src=\"http://feeds.feedburner.com/~ff/reuters/sportsNews?i=BY1obm3kUZo:O_adrhcC7y8:V_sGLiPBpWU\" border=\"0\"&gt;&lt;/img&gt;&lt;/a&gt;\n",
       "&lt;/div&gt;&lt;img src=\"http://feeds.feedburner.com/~r/reuters/sportsNews/~4/BY1obm3kUZo\" height=\"1\" width=\"1\" alt=\"\"/&gt;</td><td>FIFA has proposed that a revamped and enlarged version of the Club World Cup, planned to start in 2021, would include all European champions, runners-up and Europa League winners from  the four seasons up to and including the year of the event.</td><td>sportsNews</td><td>1</td></tr><tr><th>15</th><td>14</td><td>Motor racing: McLaren fined 5,000 euros for unsafe pitstop</td><td>SHANGHAI (Reuters) - McLaren have been fined 5,000 euros ($6,161.00) after the Formula One team’s Belgian driver Stoffel Vandoorne was released from the pits with a loose wheel during Friday's Chinese Grand Prix practice.&lt;div class=\"feedflare\"&gt;\n",
       "&lt;a href=\"http://feeds.reuters.com/~ff/reuters/sportsNews?a=UbgbPo6kam8:blyWpqYGTwo:yIl2AUoC8zA\"&gt;&lt;img src=\"http://feeds.feedburner.com/~ff/reuters/sportsNews?d=yIl2AUoC8zA\" border=\"0\"&gt;&lt;/img&gt;&lt;/a&gt; &lt;a href=\"http://feeds.reuters.com/~ff/reuters/sportsNews?a=UbgbPo6kam8:blyWpqYGTwo:F7zBnMyn0Lo\"&gt;&lt;img src=\"http://feeds.feedburner.com/~ff/reuters/sportsNews?i=UbgbPo6kam8:blyWpqYGTwo:F7zBnMyn0Lo\" border=\"0\"&gt;&lt;/img&gt;&lt;/a&gt; &lt;a href=\"http://feeds.reuters.com/~ff/reuters/sportsNews?a=UbgbPo6kam8:blyWpqYGTwo:V_sGLiPBpWU\"&gt;&lt;img src=\"http://feeds.feedburner.com/~ff/reuters/sportsNews?i=UbgbPo6kam8:blyWpqYGTwo:V_sGLiPBpWU\" border=\"0\"&gt;&lt;/img&gt;&lt;/a&gt;\n",
       "&lt;/div&gt;&lt;img src=\"http://feeds.feedburner.com/~r/reuters/sportsNews/~4/UbgbPo6kam8\" height=\"1\" width=\"1\" alt=\"\"/&gt;</td><td>McLaren have been fined 5,000 euros ($6,161.00) after the Formula One team’s Belgian driver Stoffel Vandoorne was released from the pits with a loose wheel during Friday's Chinese Grand Prix practice.</td><td>sportsNews</td><td>1</td></tr><tr><th>16</th><td>15</td><td>Olympics: Weightlifting chief hopes new anti-doping strategy secures sport's future</td><td>TOKYO, Japan (Reuters) - The International Weightlifting Federation hopes that \"innovative and creative\" rules targeting nations who have violated anti-doping regulations will secure the long term future of the sport in the Olympic program.&lt;div class=\"feedflare\"&gt;\n",
       "&lt;a href=\"http://feeds.reuters.com/~ff/reuters/sportsNews?a=MLKbfH5REfw:X7zAqINSaPU:yIl2AUoC8zA\"&gt;&lt;img src=\"http://feeds.feedburner.com/~ff/reuters/sportsNews?d=yIl2AUoC8zA\" border=\"0\"&gt;&lt;/img&gt;&lt;/a&gt; &lt;a href=\"http://feeds.reuters.com/~ff/reuters/sportsNews?a=MLKbfH5REfw:X7zAqINSaPU:F7zBnMyn0Lo\"&gt;&lt;img src=\"http://feeds.feedburner.com/~ff/reuters/sportsNews?i=MLKbfH5REfw:X7zAqINSaPU:F7zBnMyn0Lo\" border=\"0\"&gt;&lt;/img&gt;&lt;/a&gt; &lt;a href=\"http://feeds.reuters.com/~ff/reuters/sportsNews?a=MLKbfH5REfw:X7zAqINSaPU:V_sGLiPBpWU\"&gt;&lt;img src=\"http://feeds.feedburner.com/~ff/reuters/sportsNews?i=MLKbfH5REfw:X7zAqINSaPU:V_sGLiPBpWU\" border=\"0\"&gt;&lt;/img&gt;&lt;/a&gt;\n",
       "&lt;/div&gt;&lt;img src=\"http://feeds.feedburner.com/~r/reuters/sportsNews/~4/MLKbfH5REfw\" height=\"1\" width=\"1\" alt=\"\"/&gt;</td><td>The International Weightlifting Federation hopes that \"innovative and creative\" rules targeting nations who have violated anti-doping regulations will secure the long term future of the sport in the Olympic program.</td><td>sportsNews</td><td>1</td></tr><tr><th>17</th><td>16</td><td>Games: Hughes learning to live with 200 meters disqualification</td><td>GOLD COAST, Australia (Reuters) - England sprinter Zharnel Hughes said he had no choice but to accept the decision that robbed him of 200 meters gold at the Commonwealth Games, adding that making contact with rival Jereem Richards had been an accident.&lt;div class=\"feedflare\"&gt;\n",
       "&lt;a href=\"http://feeds.reuters.com/~ff/reuters/sportsNews?a=hdJl3sffnIY:J6KLvYYJ-54:yIl2AUoC8zA\"&gt;&lt;img src=\"http://feeds.feedburner.com/~ff/reuters/sportsNews?d=yIl2AUoC8zA\" border=\"0\"&gt;&lt;/img&gt;&lt;/a&gt; &lt;a href=\"http://feeds.reuters.com/~ff/reuters/sportsNews?a=hdJl3sffnIY:J6KLvYYJ-54:F7zBnMyn0Lo\"&gt;&lt;img src=\"http://feeds.feedburner.com/~ff/reuters/sportsNews?i=hdJl3sffnIY:J6KLvYYJ-54:F7zBnMyn0Lo\" border=\"0\"&gt;&lt;/img&gt;&lt;/a&gt; &lt;a href=\"http://feeds.reuters.com/~ff/reuters/sportsNews?a=hdJl3sffnIY:J6KLvYYJ-54:V_sGLiPBpWU\"&gt;&lt;img src=\"http://feeds.feedburner.com/~ff/reuters/sportsNews?i=hdJl3sffnIY:J6KLvYYJ-54:V_sGLiPBpWU\" border=\"0\"&gt;&lt;/img&gt;&lt;/a&gt;\n",
       "&lt;/div&gt;&lt;img src=\"http://feeds.feedburner.com/~r/reuters/sportsNews/~4/hdJl3sffnIY\" height=\"1\" width=\"1\" alt=\"\"/&gt;</td><td>England sprinter Zharnel Hughes said he had no choice but to accept the decision that robbed him of 200 meters gold at the Commonwealth Games, adding that making contact with rival Jereem Richards had been an accident.</td><td>sportsNews</td><td>1</td></tr><tr><th>18</th><td>17</td><td>Russia's Prokhorov sells 49 percent stake in Brooklyn Nets to Alibaba's Tsai</td><td>MOSCOW (Reuters) - Russian billionaire Mikhail Prokhorov has sold a 49-percent stake in the Brooklyn Nets basketball team to Joe Tsai, the executive vice chairman and co-founder of the Alibaba Group, the NBA team said in a statement.&lt;div class=\"feedflare\"&gt;\n",
       "&lt;a href=\"http://feeds.reuters.com/~ff/reuters/sportsNews?a=nMixgvcM4Ms:ReBkV_JpY4I:yIl2AUoC8zA\"&gt;&lt;img src=\"http://feeds.feedburner.com/~ff/reuters/sportsNews?d=yIl2AUoC8zA\" border=\"0\"&gt;&lt;/img&gt;&lt;/a&gt; &lt;a href=\"http://feeds.reuters.com/~ff/reuters/sportsNews?a=nMixgvcM4Ms:ReBkV_JpY4I:F7zBnMyn0Lo\"&gt;&lt;img src=\"http://feeds.feedburner.com/~ff/reuters/sportsNews?i=nMixgvcM4Ms:ReBkV_JpY4I:F7zBnMyn0Lo\" border=\"0\"&gt;&lt;/img&gt;&lt;/a&gt; &lt;a href=\"http://feeds.reuters.com/~ff/reuters/sportsNews?a=nMixgvcM4Ms:ReBkV_JpY4I:V_sGLiPBpWU\"&gt;&lt;img src=\"http://feeds.feedburner.com/~ff/reuters/sportsNews?i=nMixgvcM4Ms:ReBkV_JpY4I:V_sGLiPBpWU\" border=\"0\"&gt;&lt;/img&gt;&lt;/a&gt;\n",
       "&lt;/div&gt;&lt;img src=\"http://feeds.feedburner.com/~r/reuters/sportsNews/~4/nMixgvcM4Ms\" height=\"1\" width=\"1\" alt=\"\"/&gt;</td><td>Russian billionaire Mikhail Prokhorov has sold a 49-percent stake in the Brooklyn Nets basketball team to Joe Tsai, the executive vice chairman and co-founder of the Alibaba Group, the NBA team said in a statement.</td><td>sportsNews</td><td>1</td></tr><tr><th>19</th><td>18</td><td>Motor racing: F1 owner in talks over China venture to boost market push - sources</td><td>BEIJING/LONDON (Reuters) - Formula One is in talks with potential Chinese partners to set up a new local venture, four sources have told Reuters, which would help it push deeper into the huge but still nascent China market.&lt;div class=\"feedflare\"&gt;\n",
       "&lt;a href=\"http://feeds.reuters.com/~ff/reuters/sportsNews?a=PbYi_c01RiY:-Pkz-R-6c4A:yIl2AUoC8zA\"&gt;&lt;img src=\"http://feeds.feedburner.com/~ff/reuters/sportsNews?d=yIl2AUoC8zA\" border=\"0\"&gt;&lt;/img&gt;&lt;/a&gt; &lt;a href=\"http://feeds.reuters.com/~ff/reuters/sportsNews?a=PbYi_c01RiY:-Pkz-R-6c4A:F7zBnMyn0Lo\"&gt;&lt;img src=\"http://feeds.feedburner.com/~ff/reuters/sportsNews?i=PbYi_c01RiY:-Pkz-R-6c4A:F7zBnMyn0Lo\" border=\"0\"&gt;&lt;/img&gt;&lt;/a&gt; &lt;a href=\"http://feeds.reuters.com/~ff/reuters/sportsNews?a=PbYi_c01RiY:-Pkz-R-6c4A:V_sGLiPBpWU\"&gt;&lt;img src=\"http://feeds.feedburner.com/~ff/reuters/sportsNews?i=PbYi_c01RiY:-Pkz-R-6c4A:V_sGLiPBpWU\" border=\"0\"&gt;&lt;/img&gt;&lt;/a&gt;\n",
       "&lt;/div&gt;&lt;img src=\"http://feeds.feedburner.com/~r/reuters/sportsNews/~4/PbYi_c01RiY\" height=\"1\" width=\"1\" alt=\"\"/&gt;</td><td>Formula One is in talks with potential Chinese partners to set up a new local venture, four sources have told Reuters, which would help it push deeper into the huge but still nascent China market.</td><td>sportsNews</td><td>1</td></tr><tr><th>20</th><td>19</td><td>Soccer: Kovac to take over Bayern next season on three year deal-club</td><td>BERLIN (Reuters) - Croatian Niko Kovac will succeed Jupp Heynckes as Bayern Munich coach next season, agreeing on a three-year contract, the German champions said on Friday.&lt;div class=\"feedflare\"&gt;\n",
       "&lt;a href=\"http://feeds.reuters.com/~ff/reuters/sportsNews?a=qKUPWsrKUXA:W6D7yuX_6tM:yIl2AUoC8zA\"&gt;&lt;img src=\"http://feeds.feedburner.com/~ff/reuters/sportsNews?d=yIl2AUoC8zA\" border=\"0\"&gt;&lt;/img&gt;&lt;/a&gt; &lt;a href=\"http://feeds.reuters.com/~ff/reuters/sportsNews?a=qKUPWsrKUXA:W6D7yuX_6tM:F7zBnMyn0Lo\"&gt;&lt;img src=\"http://feeds.feedburner.com/~ff/reuters/sportsNews?i=qKUPWsrKUXA:W6D7yuX_6tM:F7zBnMyn0Lo\" border=\"0\"&gt;&lt;/img&gt;&lt;/a&gt; &lt;a href=\"http://feeds.reuters.com/~ff/reuters/sportsNews?a=qKUPWsrKUXA:W6D7yuX_6tM:V_sGLiPBpWU\"&gt;&lt;img src=\"http://feeds.feedburner.com/~ff/reuters/sportsNews?i=qKUPWsrKUXA:W6D7yuX_6tM:V_sGLiPBpWU\" border=\"0\"&gt;&lt;/img&gt;&lt;/a&gt;\n",
       "&lt;/div&gt;&lt;img src=\"http://feeds.feedburner.com/~r/reuters/sportsNews/~4/qKUPWsrKUXA\" height=\"1\" width=\"1\" alt=\"\"/&gt;</td><td>Croatian Niko Kovac will succeed Jupp Heynckes as Bayern Munich coach next season, agreeing on a three-year contract, the German champions said on Friday.</td><td>sportsNews</td><td>1</td></tr><tr><th>21</th><td>20</td><td>Musk insists Tesla does not need more capital, predicts profit soon</td><td>(Reuters) - Tesla Inc  will be profitable in the third and fourth quarters of this year and will not have to raise any money from investors, billionaire Chief Executive Elon Musk said on Friday, driving shares in the electric carmaker higher.&lt;div class=\"feedflare\"&gt;\n",
       "&lt;a href=\"http://feeds.reuters.com/~ff/reuters/technologyNews?a=X7JDMreq-3o:hQ02jg-2APU:yIl2AUoC8zA\"&gt;&lt;img src=\"http://feeds.feedburner.com/~ff/reuters/technologyNews?d=yIl2AUoC8zA\" border=\"0\"&gt;&lt;/img&gt;&lt;/a&gt; &lt;a href=\"http://feeds.reuters.com/~ff/reuters/technologyNews?a=X7JDMreq-3o:hQ02jg-2APU:V_sGLiPBpWU\"&gt;&lt;img src=\"http://feeds.feedburner.com/~ff/reuters/technologyNews?i=X7JDMreq-3o:hQ02jg-2APU:V_sGLiPBpWU\" border=\"0\"&gt;&lt;/img&gt;&lt;/a&gt; &lt;a href=\"http://feeds.reuters.com/~ff/reuters/technologyNews?a=X7JDMreq-3o:hQ02jg-2APU:-BTjWOF_DHI\"&gt;&lt;img src=\"http://feeds.feedburner.com/~ff/reuters/technologyNews?i=X7JDMreq-3o:hQ02jg-2APU:-BTjWOF_DHI\" border=\"0\"&gt;&lt;/img&gt;&lt;/a&gt;\n",
       "&lt;/div&gt;&lt;img src=\"http://feeds.feedburner.com/~r/reuters/technologyNews/~4/X7JDMreq-3o\" height=\"1\" width=\"1\" alt=\"\"/&gt;</td><td>Tesla Inc  will be profitable in the third and fourth quarters of this year and will not have to raise any money from investors, billionaire Chief Executive Elon Musk said on Friday, driving shares in the electric carmaker higher.</td><td>technologyNews</td><td>2</td></tr><tr><th>22</th><td>21</td><td>'Gold rush' for Wi-Fi on board planes spurs innovation</td><td>HAMBURG (Reuters) - Satellite technology to provide Wi-Fi on board planes has matured to a point where more and more airlines are looking to use it, triggering a \"gold rush\" among suppliers.&lt;div class=\"feedflare\"&gt;\n",
       "&lt;a href=\"http://feeds.reuters.com/~ff/reuters/technologyNews?a=uNGgubkTHyg:h90toZJG1SM:yIl2AUoC8zA\"&gt;&lt;img src=\"http://feeds.feedburner.com/~ff/reuters/technologyNews?d=yIl2AUoC8zA\" border=\"0\"&gt;&lt;/img&gt;&lt;/a&gt; &lt;a href=\"http://feeds.reuters.com/~ff/reuters/technologyNews?a=uNGgubkTHyg:h90toZJG1SM:V_sGLiPBpWU\"&gt;&lt;img src=\"http://feeds.feedburner.com/~ff/reuters/technologyNews?i=uNGgubkTHyg:h90toZJG1SM:V_sGLiPBpWU\" border=\"0\"&gt;&lt;/img&gt;&lt;/a&gt; &lt;a href=\"http://feeds.reuters.com/~ff/reuters/technologyNews?a=uNGgubkTHyg:h90toZJG1SM:-BTjWOF_DHI\"&gt;&lt;img src=\"http://feeds.feedburner.com/~ff/reuters/technologyNews?i=uNGgubkTHyg:h90toZJG1SM:-BTjWOF_DHI\" border=\"0\"&gt;&lt;/img&gt;&lt;/a&gt;\n",
       "&lt;/div&gt;&lt;img src=\"http://feeds.feedburner.com/~r/reuters/technologyNews/~4/uNGgubkTHyg\" height=\"1\" width=\"1\" alt=\"\"/&gt;</td><td>Satellite technology to provide Wi-Fi on board planes has matured to a point where more and more airlines are looking to use it, triggering a \"gold rush\" among suppliers.</td><td>technologyNews</td><td>2</td></tr><tr><th>23</th><td>22</td><td>Russia to ban Telegram messenger over encryption dispute</td><td>MOSCOW (Reuters) - A Russian court on Friday ordered that access to the Telegram messenger service be blocked in Russia, heralding possible communication disruption for millions of users in the latest clash between global technology firms and Russian authorities.&lt;div class=\"feedflare\"&gt;\n",
       "&lt;a href=\"http://feeds.reuters.com/~ff/reuters/technologyNews?a=tzd1zfbqcs0:R91gtublrLw:yIl2AUoC8zA\"&gt;&lt;img src=\"http://feeds.feedburner.com/~ff/reuters/technologyNews?d=yIl2AUoC8zA\" border=\"0\"&gt;&lt;/img&gt;&lt;/a&gt; &lt;a href=\"http://feeds.reuters.com/~ff/reuters/technologyNews?a=tzd1zfbqcs0:R91gtublrLw:V_sGLiPBpWU\"&gt;&lt;img src=\"http://feeds.feedburner.com/~ff/reuters/technologyNews?i=tzd1zfbqcs0:R91gtublrLw:V_sGLiPBpWU\" border=\"0\"&gt;&lt;/img&gt;&lt;/a&gt; &lt;a href=\"http://feeds.reuters.com/~ff/reuters/technologyNews?a=tzd1zfbqcs0:R91gtublrLw:-BTjWOF_DHI\"&gt;&lt;img src=\"http://feeds.feedburner.com/~ff/reuters/technologyNews?i=tzd1zfbqcs0:R91gtublrLw:-BTjWOF_DHI\" border=\"0\"&gt;&lt;/img&gt;&lt;/a&gt;\n",
       "&lt;/div&gt;&lt;img src=\"http://feeds.feedburner.com/~r/reuters/technologyNews/~4/tzd1zfbqcs0\" height=\"1\" width=\"1\" alt=\"\"/&gt;</td><td>A Russian court on Friday ordered that access to the Telegram messenger service be blocked in Russia, heralding possible communication disruption for millions of users in the latest clash between global technology firms and Russian authorities.</td><td>technologyNews</td><td>2</td></tr><tr><th>24</th><td>23</td><td>Trade war or not, China is closing the gap on U.S. in technology IP race</td><td>HONG KONG (Reuters) - China's rising investment in research and expansion of its higher education system mean that it is fast closing the gap with the United States in intellectual property and the struggle to be the No.1 global technology power, according to patent experts.&lt;div class=\"feedflare\"&gt;\n",
       "&lt;a href=\"http://feeds.reuters.com/~ff/reuters/technologyNews?a=K5YSoCmTTLU:EZg02y-LOeo:yIl2AUoC8zA\"&gt;&lt;img src=\"http://feeds.feedburner.com/~ff/reuters/technologyNews?d=yIl2AUoC8zA\" border=\"0\"&gt;&lt;/img&gt;&lt;/a&gt; &lt;a href=\"http://feeds.reuters.com/~ff/reuters/technologyNews?a=K5YSoCmTTLU:EZg02y-LOeo:V_sGLiPBpWU\"&gt;&lt;img src=\"http://feeds.feedburner.com/~ff/reuters/technologyNews?i=K5YSoCmTTLU:EZg02y-LOeo:V_sGLiPBpWU\" border=\"0\"&gt;&lt;/img&gt;&lt;/a&gt; &lt;a href=\"http://feeds.reuters.com/~ff/reuters/technologyNews?a=K5YSoCmTTLU:EZg02y-LOeo:-BTjWOF_DHI\"&gt;&lt;img src=\"http://feeds.feedburner.com/~ff/reuters/technologyNews?i=K5YSoCmTTLU:EZg02y-LOeo:-BTjWOF_DHI\" border=\"0\"&gt;&lt;/img&gt;&lt;/a&gt;\n",
       "&lt;/div&gt;&lt;img src=\"http://feeds.feedburner.com/~r/reuters/technologyNews/~4/K5YSoCmTTLU\" height=\"1\" width=\"1\" alt=\"\"/&gt;</td><td>China's rising investment in research and expansion of its higher education system mean that it is fast closing the gap with the United States in intellectual property and the struggle to be the No.1 global technology power, according to patent experts.</td><td>technologyNews</td><td>2</td></tr><tr><th>25</th><td>24</td><td>Lawmakers question FBI over San Bernardino suit against Apple</td><td>(Reuters) - A bipartisan group of lawmakers in the U.S. House of Representatives on Friday sent a letter to FBI Director Christopher Wray questioning the law enforcement agency's decision to take Apple Inc to court to force the company to help unlock a mass shooter's iPhone.&lt;div class=\"feedflare\"&gt;\n",
       "&lt;a href=\"http://feeds.reuters.com/~ff/reuters/technologyNews?a=sZGuqVmqpLY:QSR2DP1c0-U:yIl2AUoC8zA\"&gt;&lt;img src=\"http://feeds.feedburner.com/~ff/reuters/technologyNews?d=yIl2AUoC8zA\" border=\"0\"&gt;&lt;/img&gt;&lt;/a&gt; &lt;a href=\"http://feeds.reuters.com/~ff/reuters/technologyNews?a=sZGuqVmqpLY:QSR2DP1c0-U:V_sGLiPBpWU\"&gt;&lt;img src=\"http://feeds.feedburner.com/~ff/reuters/technologyNews?i=sZGuqVmqpLY:QSR2DP1c0-U:V_sGLiPBpWU\" border=\"0\"&gt;&lt;/img&gt;&lt;/a&gt; &lt;a href=\"http://feeds.reuters.com/~ff/reuters/technologyNews?a=sZGuqVmqpLY:QSR2DP1c0-U:-BTjWOF_DHI\"&gt;&lt;img src=\"http://feeds.feedburner.com/~ff/reuters/technologyNews?i=sZGuqVmqpLY:QSR2DP1c0-U:-BTjWOF_DHI\" border=\"0\"&gt;&lt;/img&gt;&lt;/a&gt;\n",
       "&lt;/div&gt;&lt;img src=\"http://feeds.feedburner.com/~r/reuters/technologyNews/~4/sZGuqVmqpLY\" height=\"1\" width=\"1\" alt=\"\"/&gt;</td><td>A bipartisan group of lawmakers in the U.S. House of Representatives on Friday sent a letter to FBI Director Christopher Wray questioning the law enforcement agency's decision to take Apple Inc to court to force the company to help unlock a mass shooter's iPhone.</td><td>technologyNews</td><td>2</td></tr><tr><th>26</th><td>25</td><td>Singapore watchdog sets interim measures for Uber-Grab deal</td><td>SINGAPORE (Reuters) - Singapore's competition watchdog on Friday outlined a set of interim measures for ride-hailing firms Grab and Uber Technologies to ensure an open market as it continued its  investigation into their merger in the city-state.&lt;div class=\"feedflare\"&gt;\n",
       "&lt;a href=\"http://feeds.reuters.com/~ff/reuters/technologyNews?a=jjOgmroEe0U:RHUsaKE3pT8:yIl2AUoC8zA\"&gt;&lt;img src=\"http://feeds.feedburner.com/~ff/reuters/technologyNews?d=yIl2AUoC8zA\" border=\"0\"&gt;&lt;/img&gt;&lt;/a&gt; &lt;a href=\"http://feeds.reuters.com/~ff/reuters/technologyNews?a=jjOgmroEe0U:RHUsaKE3pT8:V_sGLiPBpWU\"&gt;&lt;img src=\"http://feeds.feedburner.com/~ff/reuters/technologyNews?i=jjOgmroEe0U:RHUsaKE3pT8:V_sGLiPBpWU\" border=\"0\"&gt;&lt;/img&gt;&lt;/a&gt; &lt;a href=\"http://feeds.reuters.com/~ff/reuters/technologyNews?a=jjOgmroEe0U:RHUsaKE3pT8:-BTjWOF_DHI\"&gt;&lt;img src=\"http://feeds.feedburner.com/~ff/reuters/technologyNews?i=jjOgmroEe0U:RHUsaKE3pT8:-BTjWOF_DHI\" border=\"0\"&gt;&lt;/img&gt;&lt;/a&gt;\n",
       "&lt;/div&gt;&lt;img src=\"http://feeds.feedburner.com/~r/reuters/technologyNews/~4/jjOgmroEe0U\" height=\"1\" width=\"1\" alt=\"\"/&gt;</td><td>Singapore's competition watchdog on Friday outlined a set of interim measures for ride-hailing firms Grab and Uber Technologies to ensure an open market as it continued its  investigation into their merger in the city-state.</td><td>technologyNews</td><td>2</td></tr><tr><th>27</th><td>26</td><td>Singapore to test facial recognition on lampposts, stoking privacy fears</td><td>SINGAPORE (Reuters) - In the not too distant future, surveillance cameras sitting atop over 100,000 lampposts in Singapore could help authorities pick out and recognize faces in crowds across the island-state.&lt;div class=\"feedflare\"&gt;\n",
       "&lt;a href=\"http://feeds.reuters.com/~ff/reuters/technologyNews?a=3W3VG4x45eU:PrjxnK9YQP4:yIl2AUoC8zA\"&gt;&lt;img src=\"http://feeds.feedburner.com/~ff/reuters/technologyNews?d=yIl2AUoC8zA\" border=\"0\"&gt;&lt;/img&gt;&lt;/a&gt; &lt;a href=\"http://feeds.reuters.com/~ff/reuters/technologyNews?a=3W3VG4x45eU:PrjxnK9YQP4:V_sGLiPBpWU\"&gt;&lt;img src=\"http://feeds.feedburner.com/~ff/reuters/technologyNews?i=3W3VG4x45eU:PrjxnK9YQP4:V_sGLiPBpWU\" border=\"0\"&gt;&lt;/img&gt;&lt;/a&gt; &lt;a href=\"http://feeds.reuters.com/~ff/reuters/technologyNews?a=3W3VG4x45eU:PrjxnK9YQP4:-BTjWOF_DHI\"&gt;&lt;img src=\"http://feeds.feedburner.com/~ff/reuters/technologyNews?i=3W3VG4x45eU:PrjxnK9YQP4:-BTjWOF_DHI\" border=\"0\"&gt;&lt;/img&gt;&lt;/a&gt;\n",
       "&lt;/div&gt;&lt;img src=\"http://feeds.feedburner.com/~r/reuters/technologyNews/~4/3W3VG4x45eU\" height=\"1\" width=\"1\" alt=\"\"/&gt;</td><td>In the not too distant future, surveillance cameras sitting atop over 100,000 lampposts in Singapore could help authorities pick out and recognize faces in crowds across the island-state.</td><td>technologyNews</td><td>2</td></tr><tr><th>28</th><td>27</td><td>Italy's Open Fiber enlists banks for $8 billion broadband rollout</td><td>MILAN (Reuters) - Italy's Open Fiber has enlisted banks to help fund the 6.5 billion euro ($8 billion) rollout of its fast broadband network, it said on Friday, confirming an earlier Reuters report.&lt;div class=\"feedflare\"&gt;\n",
       "&lt;a href=\"http://feeds.reuters.com/~ff/reuters/technologyNews?a=g5CMmcg-_js:0KGQuVwaoXc:yIl2AUoC8zA\"&gt;&lt;img src=\"http://feeds.feedburner.com/~ff/reuters/technologyNews?d=yIl2AUoC8zA\" border=\"0\"&gt;&lt;/img&gt;&lt;/a&gt; &lt;a href=\"http://feeds.reuters.com/~ff/reuters/technologyNews?a=g5CMmcg-_js:0KGQuVwaoXc:V_sGLiPBpWU\"&gt;&lt;img src=\"http://feeds.feedburner.com/~ff/reuters/technologyNews?i=g5CMmcg-_js:0KGQuVwaoXc:V_sGLiPBpWU\" border=\"0\"&gt;&lt;/img&gt;&lt;/a&gt; &lt;a href=\"http://feeds.reuters.com/~ff/reuters/technologyNews?a=g5CMmcg-_js:0KGQuVwaoXc:-BTjWOF_DHI\"&gt;&lt;img src=\"http://feeds.feedburner.com/~ff/reuters/technologyNews?i=g5CMmcg-_js:0KGQuVwaoXc:-BTjWOF_DHI\" border=\"0\"&gt;&lt;/img&gt;&lt;/a&gt;\n",
       "&lt;/div&gt;&lt;img src=\"http://feeds.feedburner.com/~r/reuters/technologyNews/~4/g5CMmcg-_js\" height=\"1\" width=\"1\" alt=\"\"/&gt;</td><td>Italy's Open Fiber has enlisted banks to help fund the 6.5 billion euro ($8 billion) rollout of its fast broadband network, it said on Friday, confirming an earlier Reuters report.</td><td>technologyNews</td><td>2</td></tr><tr><th>29</th><td>28</td><td>Philippines' watchdog probes Facebook over Cambridge Analytica data breach</td><td>MANILA (Reuters) - The Philippines' privacy watchdog said on Friday it has started investigating Facebook Inc  over a data breach involving British firm Cambridge Analytica that affected more than a million Filipino users of social media.&lt;div class=\"feedflare\"&gt;\n",
       "&lt;a href=\"http://feeds.reuters.com/~ff/reuters/technologyNews?a=RjnT681rqnA:WyLDJBLcvyA:yIl2AUoC8zA\"&gt;&lt;img src=\"http://feeds.feedburner.com/~ff/reuters/technologyNews?d=yIl2AUoC8zA\" border=\"0\"&gt;&lt;/img&gt;&lt;/a&gt; &lt;a href=\"http://feeds.reuters.com/~ff/reuters/technologyNews?a=RjnT681rqnA:WyLDJBLcvyA:V_sGLiPBpWU\"&gt;&lt;img src=\"http://feeds.feedburner.com/~ff/reuters/technologyNews?i=RjnT681rqnA:WyLDJBLcvyA:V_sGLiPBpWU\" border=\"0\"&gt;&lt;/img&gt;&lt;/a&gt; &lt;a href=\"http://feeds.reuters.com/~ff/reuters/technologyNews?a=RjnT681rqnA:WyLDJBLcvyA:-BTjWOF_DHI\"&gt;&lt;img src=\"http://feeds.feedburner.com/~ff/reuters/technologyNews?i=RjnT681rqnA:WyLDJBLcvyA:-BTjWOF_DHI\" border=\"0\"&gt;&lt;/img&gt;&lt;/a&gt;\n",
       "&lt;/div&gt;&lt;img src=\"http://feeds.feedburner.com/~r/reuters/technologyNews/~4/RjnT681rqnA\" height=\"1\" width=\"1\" alt=\"\"/&gt;</td><td>The Philippines' privacy watchdog said on Friday it has started investigating Facebook Inc  over a data breach involving British firm Cambridge Analytica that affected more than a million Filipino users of social media.</td><td>technologyNews</td><td>2</td></tr><tr><th>30</th><td>29</td><td>Microsoft auditing partner KPMG's anti-piracy work in India after complaint: documents</td><td>NEW DELHI (Reuters) - Microsoft Corp is investigating the methods partner KPMG uses to crack down on the illegal use of its software in India, after a complaint from a senior member of the country's ruling political party, documents seen by Reuters showed.&lt;div class=\"feedflare\"&gt;\n",
       "&lt;a href=\"http://feeds.reuters.com/~ff/reuters/technologyNews?a=I-Ixtc0BKsk:13UqT7PHM4E:yIl2AUoC8zA\"&gt;&lt;img src=\"http://feeds.feedburner.com/~ff/reuters/technologyNews?d=yIl2AUoC8zA\" border=\"0\"&gt;&lt;/img&gt;&lt;/a&gt; &lt;a href=\"http://feeds.reuters.com/~ff/reuters/technologyNews?a=I-Ixtc0BKsk:13UqT7PHM4E:V_sGLiPBpWU\"&gt;&lt;img src=\"http://feeds.feedburner.com/~ff/reuters/technologyNews?i=I-Ixtc0BKsk:13UqT7PHM4E:V_sGLiPBpWU\" border=\"0\"&gt;&lt;/img&gt;&lt;/a&gt; &lt;a href=\"http://feeds.reuters.com/~ff/reuters/technologyNews?a=I-Ixtc0BKsk:13UqT7PHM4E:-BTjWOF_DHI\"&gt;&lt;img src=\"http://feeds.feedburner.com/~ff/reuters/technologyNews?i=I-Ixtc0BKsk:13UqT7PHM4E:-BTjWOF_DHI\" border=\"0\"&gt;&lt;/img&gt;&lt;/a&gt;\n",
       "&lt;/div&gt;&lt;img src=\"http://feeds.feedburner.com/~r/reuters/technologyNews/~4/I-Ixtc0BKsk\" height=\"1\" width=\"1\" alt=\"\"/&gt;</td><td>Microsoft Corp is investigating the methods partner KPMG uses to crack down on the illegal use of its software in India, after a complaint from a senior member of the country's ruling political party, documents seen by Reuters showed.</td><td>technologyNews</td><td>2</td></tr><tr><th>&vellip;</th><td>&vellip;</td><td>&vellip;</td><td>&vellip;</td><td>&vellip;</td><td>&vellip;</td><td>&vellip;</td></tr></tbody></table>"
      ],
      "text/plain": [
       "100×6 DataFrames.DataFrame\n",
       "│ Row │ x  │\n",
       "├─────┼────┤\n",
       "│ 1   │ 0  │\n",
       "│ 2   │ 1  │\n",
       "│ 3   │ 2  │\n",
       "│ 4   │ 3  │\n",
       "│ 5   │ 4  │\n",
       "│ 6   │ 5  │\n",
       "│ 7   │ 6  │\n",
       "│ 8   │ 7  │\n",
       "│ 9   │ 8  │\n",
       "│ 10  │ 9  │\n",
       "│ 11  │ 10 │\n",
       "⋮\n",
       "│ 89  │ 88 │\n",
       "│ 90  │ 89 │\n",
       "│ 91  │ 90 │\n",
       "│ 92  │ 91 │\n",
       "│ 93  │ 92 │\n",
       "│ 94  │ 93 │\n",
       "│ 95  │ 94 │\n",
       "│ 96  │ 95 │\n",
       "│ 97  │ 96 │\n",
       "│ 98  │ 97 │\n",
       "│ 99  │ 98 │\n",
       "│ 100 │ 99 │\n",
       "\n",
       "│ Row │ Title                                                                                             │\n",
       "├─────┼───────────────────────────────────────────────────────────────────────────────────────────────────┤\n",
       "│ 1   │ \"Bank stocks lead Wall Street lower amid Syria tensions, Russia trade threat\"                     │\n",
       "│ 2   │ \"Trade war backfire: Steel tariff shrapnel hits U.S. farmers\"                                     │\n",
       "│ 3   │ \"U.S. bank executives see delayed boost from tax overhaul\"                                        │\n",
       "│ 4   │ \"Wells Fargo faces \\$1 billion fine from loan abuses\"                                              │\n",
       "│ 5   │ \"Musk insists Tesla does not need more capital, predicts profit soon\"                             │\n",
       "│ 6   │ \"Bratz maker's CEO bids \\$890 million for Toys 'R' Us stores\"                                      │\n",
       "│ 7   │ \"JPMorgan profit just below estimates on weak investment banking\"                                 │\n",
       "│ 8   │ \"Wells Fargo CFO says government, not banks, should set gun policy\"                               │\n",
       "│ 9   │ \"Citigroup profit beats on strength in consumer banking, equity trading\"                          │\n",
       "│ 10  │ \"Trump orders review of U.S. Postal Service following criticism of Amazon\"                        │\n",
       "│ 11  │ \"Motor racing: Hamilton fastest in China practice but Ferrari close\"                              │\n",
       "⋮\n",
       "│ 89  │ \"Religious faith linked to suicidal behavior in LGBQ adults\"                                      │\n",
       "│ 90  │ \"Patients more satisfied when doctors treat fewer people\"                                         │\n",
       "│ 91  │ \"Trump's personal lawyer attacked by U.S. prosecutor over privacy claim\"                          │\n",
       "│ 92  │ \"Trump, called an unethical liar in book, blasts ex-FBI chief as 'slime ball'\"                    │\n",
       "│ 93  │ \"Trump says U.S. will only rejoin Pacific trade pact if terms are improved\"                       │\n",
       "│ 94  │ \"With Russia on his mind, Trump looks for tougher approach on Syria: sources\"                     │\n",
       "│ 95  │ \"Republican-led House panel orders interviews with Pruitt aides at EPA\"                           │\n",
       "│ 96  │ \"Trump to lift legal threat to states that permit marijuana use\"                                  │\n",
       "│ 97  │ \"Ex-FBI deputy director faulted by Justice Department on media disclosure\"                        │\n",
       "│ 98  │ \"Trump lawyer arranged \\$1.6 million payoff to Playboy Playmate for Republican fundraiser: source\" │\n",
       "│ 99  │ \"Special counsel has evidence Michael Cohen traveled to Prague: McClatchy\"                        │\n",
       "│ 100 │ \"House passes bill to streamline 'Volcker Rule'\"                                                  │\n",
       "\n",
       "│ Row │ Description                                                                                                                                                                                                                                                                                                                                                                                                                                                                                                                                                                                                                                                                                                                                                                                                                                                                                                                                                                                                                                                                                                                                            │\n",
       "├─────┼────────────────────────────────────────────────────────────────────────────────────────────────────────────────────────────────────────────────────────────────────────────────────────────────────────────────────────────────────────────────────────────────────────────────────────────────────────────────────────────────────────────────────────────────────────────────────────────────────────────────────────────────────────────────────────────────────────────────────────────────────────────────────────────────────────────────────────────────────────────────────────────────────────────────────────────────────────────────────────────────────────────────────────────────────────────────────────────────────────────────────────────────────────────────────────────────────────────────────────────────────────────────────────────────────────────────────────────────────────────────────────────────────────────────────────────────────────────────────────────────────────────────────────────────────────────────────────────────────────────────────────────────────────────────────────────────────────────────────────┤\n",
       "│ 1   │ \"NEW YORK (Reuters) - Financial stocks led a drop on Wall Street on Friday, as results from big banks failed to enthuse and geopolitical tensions in Syria and Russia further unnerved investors.<div class=\\\"feedflare\\\">\\n<a href=\\\"http://feeds.reuters.com/~ff/reuters/businessNews?a=G0SWmsbH8M8:33ar9b0m6EQ:yIl2AUoC8zA\\\"><img src=\\\"http://feeds.feedburner.com/~ff/reuters/businessNews?d=yIl2AUoC8zA\\\" border=\\\"0\\\"></img></a> <a href=\\\"http://feeds.reuters.com/~ff/reuters/businessNews?a=G0SWmsbH8M8:33ar9b0m6EQ:F7zBnMyn0Lo\\\"><img src=\\\"http://feeds.feedburner.com/~ff/reuters/businessNews?i=G0SWmsbH8M8:33ar9b0m6EQ:F7zBnMyn0Lo\\\" border=\\\"0\\\"></img></a> <a href=\\\"http://feeds.reuters.com/~ff/reuters/businessNews?a=G0SWmsbH8M8:33ar9b0m6EQ:V_sGLiPBpWU\\\"><img src=\\\"http://feeds.feedburner.com/~ff/reuters/businessNews?i=G0SWmsbH8M8:33ar9b0m6EQ:V_sGLiPBpWU\\\" border=\\\"0\\\"></img></a>\\n</div><img src=\\\"http://feeds.feedburner.com/~r/reuters/businessNews/~4/G0SWmsbH8M8\\\" height=\\\"1\\\" width=\\\"1\\\" alt=\\\"\\\"/>\"                                                                                                                                            │\n",
       "│ 2   │ \"KANE COUNTY, Ill. (Reuters) - Lucas Strom, who runs a century-old family farm in rural Illinois, canceled an order to buy a new \\$71,000 grain storage bin last month - after the seller raised the price 5 percent in a day.<div class=\\\"feedflare\\\">\\n<a href=\\\"http://feeds.reuters.com/~ff/reuters/businessNews?a=IcCT8ct9dWo:jH0mYilf2Lk:yIl2AUoC8zA\\\"><img src=\\\"http://feeds.feedburner.com/~ff/reuters/businessNews?d=yIl2AUoC8zA\\\" border=\\\"0\\\"></img></a> <a href=\\\"http://feeds.reuters.com/~ff/reuters/businessNews?a=IcCT8ct9dWo:jH0mYilf2Lk:F7zBnMyn0Lo\\\"><img src=\\\"http://feeds.feedburner.com/~ff/reuters/businessNews?i=IcCT8ct9dWo:jH0mYilf2Lk:F7zBnMyn0Lo\\\" border=\\\"0\\\"></img></a> <a href=\\\"http://feeds.reuters.com/~ff/reuters/businessNews?a=IcCT8ct9dWo:jH0mYilf2Lk:V_sGLiPBpWU\\\"><img src=\\\"http://feeds.feedburner.com/~ff/reuters/businessNews?i=IcCT8ct9dWo:jH0mYilf2Lk:V_sGLiPBpWU\\\" border=\\\"0\\\"></img></a>\\n</div><img src=\\\"http://feeds.feedburner.com/~r/reuters/businessNews/~4/IcCT8ct9dWo\\\" height=\\\"1\\\" width=\\\"1\\\" alt=\\\"\\\"/>\"                                                                                                                │\n",
       "│ 3   │ \"NEW YORK (Reuters) - Banks have not reaped the full benefit of U.S. tax cuts, Wall Street executives said on Friday after a string of quarterly results, with expected business growth and higher consumer spending yet to materialize.<div class=\\\"feedflare\\\">\\n<a href=\\\"http://feeds.reuters.com/~ff/reuters/businessNews?a=5a03Bd5Ukl0:TGC4nJJnkyY:yIl2AUoC8zA\\\"><img src=\\\"http://feeds.feedburner.com/~ff/reuters/businessNews?d=yIl2AUoC8zA\\\" border=\\\"0\\\"></img></a> <a href=\\\"http://feeds.reuters.com/~ff/reuters/businessNews?a=5a03Bd5Ukl0:TGC4nJJnkyY:F7zBnMyn0Lo\\\"><img src=\\\"http://feeds.feedburner.com/~ff/reuters/businessNews?i=5a03Bd5Ukl0:TGC4nJJnkyY:F7zBnMyn0Lo\\\" border=\\\"0\\\"></img></a> <a href=\\\"http://feeds.reuters.com/~ff/reuters/businessNews?a=5a03Bd5Ukl0:TGC4nJJnkyY:V_sGLiPBpWU\\\"><img src=\\\"http://feeds.feedburner.com/~ff/reuters/businessNews?i=5a03Bd5Ukl0:TGC4nJJnkyY:V_sGLiPBpWU\\\" border=\\\"0\\\"></img></a>\\n</div><img src=\\\"http://feeds.feedburner.com/~r/reuters/businessNews/~4/5a03Bd5Ukl0\\\" height=\\\"1\\\" width=\\\"1\\\" alt=\\\"\\\"/>\"                                                                                                     │\n",
       "│ 4   │ \"(Reuters) - Two U.S. regulators have proposed Wells Fargo & Co  pay \\$1 billion in penalties to resolve probes into auto insurance and mortgage lending abuses at the third largest U.S. bank, overshadowing its first quarter results.<div class=\\\"feedflare\\\">\\n<a href=\\\"http://feeds.reuters.com/~ff/reuters/businessNews?a=NQDCk4oW0xg:on4nnZIHetc:yIl2AUoC8zA\\\"><img src=\\\"http://feeds.feedburner.com/~ff/reuters/businessNews?d=yIl2AUoC8zA\\\" border=\\\"0\\\"></img></a> <a href=\\\"http://feeds.reuters.com/~ff/reuters/businessNews?a=NQDCk4oW0xg:on4nnZIHetc:F7zBnMyn0Lo\\\"><img src=\\\"http://feeds.feedburner.com/~ff/reuters/businessNews?i=NQDCk4oW0xg:on4nnZIHetc:F7zBnMyn0Lo\\\" border=\\\"0\\\"></img></a> <a href=\\\"http://feeds.reuters.com/~ff/reuters/businessNews?a=NQDCk4oW0xg:on4nnZIHetc:V_sGLiPBpWU\\\"><img src=\\\"http://feeds.feedburner.com/~ff/reuters/businessNews?i=NQDCk4oW0xg:on4nnZIHetc:V_sGLiPBpWU\\\" border=\\\"0\\\"></img></a>\\n</div><img src=\\\"http://feeds.feedburner.com/~r/reuters/businessNews/~4/NQDCk4oW0xg\\\" height=\\\"1\\\" width=\\\"1\\\" alt=\\\"\\\"/>\"                                                                                                      │\n",
       "│ 5   │ \"(Reuters) - Tesla Inc  will be profitable in the third and fourth quarters of this year and will not have to raise any money from investors, billionaire Chief Executive Elon Musk said on Friday, driving shares in the electric carmaker higher.<div class=\\\"feedflare\\\">\\n<a href=\\\"http://feeds.reuters.com/~ff/reuters/businessNews?a=zo3y0Mf7Zjo:hQ02jg-2APU:yIl2AUoC8zA\\\"><img src=\\\"http://feeds.feedburner.com/~ff/reuters/businessNews?d=yIl2AUoC8zA\\\" border=\\\"0\\\"></img></a> <a href=\\\"http://feeds.reuters.com/~ff/reuters/businessNews?a=zo3y0Mf7Zjo:hQ02jg-2APU:F7zBnMyn0Lo\\\"><img src=\\\"http://feeds.feedburner.com/~ff/reuters/businessNews?i=zo3y0Mf7Zjo:hQ02jg-2APU:F7zBnMyn0Lo\\\" border=\\\"0\\\"></img></a> <a href=\\\"http://feeds.reuters.com/~ff/reuters/businessNews?a=zo3y0Mf7Zjo:hQ02jg-2APU:V_sGLiPBpWU\\\"><img src=\\\"http://feeds.feedburner.com/~ff/reuters/businessNews?i=zo3y0Mf7Zjo:hQ02jg-2APU:V_sGLiPBpWU\\\" border=\\\"0\\\"></img></a>\\n</div><img src=\\\"http://feeds.feedburner.com/~r/reuters/businessNews/~4/zo3y0Mf7Zjo\\\" height=\\\"1\\\" width=\\\"1\\\" alt=\\\"\\\"/>\"                                                                                          │\n",
       "│ 6   │ \"(Reuters) - Bratz doll maker MGA Entertainment said on Friday its billionaire founder and chief executive, Isaac Larian, had made an \\$890 million bid for Toys 'R' Us stores in the United States and Canada.<div class=\\\"feedflare\\\">\\n<a href=\\\"http://feeds.reuters.com/~ff/reuters/businessNews?a=xe8bEx_LW4I:mjPqCSLeO8o:yIl2AUoC8zA\\\"><img src=\\\"http://feeds.feedburner.com/~ff/reuters/businessNews?d=yIl2AUoC8zA\\\" border=\\\"0\\\"></img></a> <a href=\\\"http://feeds.reuters.com/~ff/reuters/businessNews?a=xe8bEx_LW4I:mjPqCSLeO8o:F7zBnMyn0Lo\\\"><img src=\\\"http://feeds.feedburner.com/~ff/reuters/businessNews?i=xe8bEx_LW4I:mjPqCSLeO8o:F7zBnMyn0Lo\\\" border=\\\"0\\\"></img></a> <a href=\\\"http://feeds.reuters.com/~ff/reuters/businessNews?a=xe8bEx_LW4I:mjPqCSLeO8o:V_sGLiPBpWU\\\"><img src=\\\"http://feeds.feedburner.com/~ff/reuters/businessNews?i=xe8bEx_LW4I:mjPqCSLeO8o:V_sGLiPBpWU\\\" border=\\\"0\\\"></img></a>\\n</div><img src=\\\"http://feeds.feedburner.com/~r/reuters/businessNews/~4/xe8bEx_LW4I\\\" height=\\\"1\\\" width=\\\"1\\\" alt=\\\"\\\"/>\"                                                                                                                               │\n",
       "│ 7   │ \"(Reuters) - JPMorgan Chase & Co's  quarterly profit fell short of Wall Street expectations on Friday as lower revenue from investment banking ate into gains from stock trading and higher interest rates.<div class=\\\"feedflare\\\">\\n<a href=\\\"http://feeds.reuters.com/~ff/reuters/businessNews?a=l3qxaEtfiV4:BRxBvlfJOXI:yIl2AUoC8zA\\\"><img src=\\\"http://feeds.feedburner.com/~ff/reuters/businessNews?d=yIl2AUoC8zA\\\" border=\\\"0\\\"></img></a> <a href=\\\"http://feeds.reuters.com/~ff/reuters/businessNews?a=l3qxaEtfiV4:BRxBvlfJOXI:F7zBnMyn0Lo\\\"><img src=\\\"http://feeds.feedburner.com/~ff/reuters/businessNews?i=l3qxaEtfiV4:BRxBvlfJOXI:F7zBnMyn0Lo\\\" border=\\\"0\\\"></img></a> <a href=\\\"http://feeds.reuters.com/~ff/reuters/businessNews?a=l3qxaEtfiV4:BRxBvlfJOXI:V_sGLiPBpWU\\\"><img src=\\\"http://feeds.feedburner.com/~ff/reuters/businessNews?i=l3qxaEtfiV4:BRxBvlfJOXI:V_sGLiPBpWU\\\" border=\\\"0\\\"></img></a>\\n</div><img src=\\\"http://feeds.feedburner.com/~r/reuters/businessNews/~4/l3qxaEtfiV4\\\" height=\\\"1\\\" width=\\\"1\\\" alt=\\\"\\\"/>\"                                                                                                                                  │\n",
       "│ 8   │ \"NEW YORK (Reuters) - Wells Fargo & Co  believes the U.S. government, rather than banks, should set rules to promote gun safety, its finance chief said on Friday.<div class=\\\"feedflare\\\">\\n<a href=\\\"http://feeds.reuters.com/~ff/reuters/businessNews?a=xkk2vSKA2Cg:EP_bGlxEbNs:yIl2AUoC8zA\\\"><img src=\\\"http://feeds.feedburner.com/~ff/reuters/businessNews?d=yIl2AUoC8zA\\\" border=\\\"0\\\"></img></a> <a href=\\\"http://feeds.reuters.com/~ff/reuters/businessNews?a=xkk2vSKA2Cg:EP_bGlxEbNs:F7zBnMyn0Lo\\\"><img src=\\\"http://feeds.feedburner.com/~ff/reuters/businessNews?i=xkk2vSKA2Cg:EP_bGlxEbNs:F7zBnMyn0Lo\\\" border=\\\"0\\\"></img></a> <a href=\\\"http://feeds.reuters.com/~ff/reuters/businessNews?a=xkk2vSKA2Cg:EP_bGlxEbNs:V_sGLiPBpWU\\\"><img src=\\\"http://feeds.feedburner.com/~ff/reuters/businessNews?i=xkk2vSKA2Cg:EP_bGlxEbNs:V_sGLiPBpWU\\\" border=\\\"0\\\"></img></a>\\n</div><img src=\\\"http://feeds.feedburner.com/~r/reuters/businessNews/~4/xkk2vSKA2Cg\\\" height=\\\"1\\\" width=\\\"1\\\" alt=\\\"\\\"/>\"                                                                                                                                                                           │\n",
       "│ 9   │ \"(Reuters) - Citigroup Inc  reported a higher-than-expected quarterly profit on Friday, driven by strength in its consumer banking business and a surge in equities trading.<div class=\\\"feedflare\\\">\\n<a href=\\\"http://feeds.reuters.com/~ff/reuters/businessNews?a=hI3ZIZUksTE:IVWNcqLMr3I:yIl2AUoC8zA\\\"><img src=\\\"http://feeds.feedburner.com/~ff/reuters/businessNews?d=yIl2AUoC8zA\\\" border=\\\"0\\\"></img></a> <a href=\\\"http://feeds.reuters.com/~ff/reuters/businessNews?a=hI3ZIZUksTE:IVWNcqLMr3I:F7zBnMyn0Lo\\\"><img src=\\\"http://feeds.feedburner.com/~ff/reuters/businessNews?i=hI3ZIZUksTE:IVWNcqLMr3I:F7zBnMyn0Lo\\\" border=\\\"0\\\"></img></a> <a href=\\\"http://feeds.reuters.com/~ff/reuters/businessNews?a=hI3ZIZUksTE:IVWNcqLMr3I:V_sGLiPBpWU\\\"><img src=\\\"http://feeds.feedburner.com/~ff/reuters/businessNews?i=hI3ZIZUksTE:IVWNcqLMr3I:V_sGLiPBpWU\\\" border=\\\"0\\\"></img></a>\\n</div><img src=\\\"http://feeds.feedburner.com/~r/reuters/businessNews/~4/hI3ZIZUksTE\\\" height=\\\"1\\\" width=\\\"1\\\" alt=\\\"\\\"/>\"                                                                                                                                                                 │\n",
       "│ 10  │ \"WASHINGTON (Reuters) - U.S. President Donald Trump on Thursday ordered the creation of a task force to study the U.S. Postal Service and its financial difficulties, after recently claiming without evidence that deliveries for Amazon.com Inc  were costing the service money.<div class=\\\"feedflare\\\">\\n<a href=\\\"http://feeds.reuters.com/~ff/reuters/businessNews?a=hRTXiHbt-4M:oMj-m2zvads:yIl2AUoC8zA\\\"><img src=\\\"http://feeds.feedburner.com/~ff/reuters/businessNews?d=yIl2AUoC8zA\\\" border=\\\"0\\\"></img></a> <a href=\\\"http://feeds.reuters.com/~ff/reuters/businessNews?a=hRTXiHbt-4M:oMj-m2zvads:F7zBnMyn0Lo\\\"><img src=\\\"http://feeds.feedburner.com/~ff/reuters/businessNews?i=hRTXiHbt-4M:oMj-m2zvads:F7zBnMyn0Lo\\\" border=\\\"0\\\"></img></a> <a href=\\\"http://feeds.reuters.com/~ff/reuters/businessNews?a=hRTXiHbt-4M:oMj-m2zvads:V_sGLiPBpWU\\\"><img src=\\\"http://feeds.feedburner.com/~ff/reuters/businessNews?i=hRTXiHbt-4M:oMj-m2zvads:V_sGLiPBpWU\\\" border=\\\"0\\\"></img></a>\\n</div><img src=\\\"http://feeds.feedburner.com/~r/reuters/businessNews/~4/hRTXiHbt-4M\\\" height=\\\"1\\\" width=\\\"1\\\" alt=\\\"\\\"/>\"                                                           │\n",
       "│ 11  │ \"SHANGHAI (Reuters) - Formula One world champion Lewis Hamilton edged out Kimi Raikkonen at the top of the timesheets as Ferrari ended the opening day of practice for Sunday’s Chinese Grand Prix hot on pacesetter Mercedes’ heels.<div class=\\\"feedflare\\\">\\n<a href=\\\"http://feeds.reuters.com/~ff/reuters/sportsNews?a=el5e9oqF7ew:pbCZjaCt9bU:yIl2AUoC8zA\\\"><img src=\\\"http://feeds.feedburner.com/~ff/reuters/sportsNews?d=yIl2AUoC8zA\\\" border=\\\"0\\\"></img></a> <a href=\\\"http://feeds.reuters.com/~ff/reuters/sportsNews?a=el5e9oqF7ew:pbCZjaCt9bU:F7zBnMyn0Lo\\\"><img src=\\\"http://feeds.feedburner.com/~ff/reuters/sportsNews?i=el5e9oqF7ew:pbCZjaCt9bU:F7zBnMyn0Lo\\\" border=\\\"0\\\"></img></a> <a href=\\\"http://feeds.reuters.com/~ff/reuters/sportsNews?a=el5e9oqF7ew:pbCZjaCt9bU:V_sGLiPBpWU\\\"><img src=\\\"http://feeds.feedburner.com/~ff/reuters/sportsNews?i=el5e9oqF7ew:pbCZjaCt9bU:V_sGLiPBpWU\\\" border=\\\"0\\\"></img></a>\\n</div><img src=\\\"http://feeds.feedburner.com/~r/reuters/sportsNews/~4/el5e9oqF7ew\\\" height=\\\"1\\\" width=\\\"1\\\" alt=\\\"\\\"/>\"                                                                                                                      │\n",
       "⋮\n",
       "│ 89  │ \"(Reuters Health) - Although religiosity is generally tied to reduced suicide risk, the opposite may be true for some young lesbian, gay and questioning adults, researchers say.<div class=\\\"feedflare\\\">\\n<a href=\\\"http://feeds.reuters.com/~ff/reuters/healthNews?a=MMFbKlp9VjU:NkieT5hdL7E:yIl2AUoC8zA\\\"><img src=\\\"http://feeds.feedburner.com/~ff/reuters/healthNews?d=yIl2AUoC8zA\\\" border=\\\"0\\\"></img></a> <a href=\\\"http://feeds.reuters.com/~ff/reuters/healthNews?a=MMFbKlp9VjU:NkieT5hdL7E:F7zBnMyn0Lo\\\"><img src=\\\"http://feeds.feedburner.com/~ff/reuters/healthNews?i=MMFbKlp9VjU:NkieT5hdL7E:F7zBnMyn0Lo\\\" border=\\\"0\\\"></img></a> <a href=\\\"http://feeds.reuters.com/~ff/reuters/healthNews?a=MMFbKlp9VjU:NkieT5hdL7E:V_sGLiPBpWU\\\"><img src=\\\"http://feeds.feedburner.com/~ff/reuters/healthNews?i=MMFbKlp9VjU:NkieT5hdL7E:V_sGLiPBpWU\\\" border=\\\"0\\\"></img></a>\\n</div><img src=\\\"http://feeds.feedburner.com/~r/reuters/healthNews/~4/MMFbKlp9VjU\\\" height=\\\"1\\\" width=\\\"1\\\" alt=\\\"\\\"/>\"                                                                                                                                                                          │\n",
       "│ 90  │ \"(Reuters Health) - Doctors who see fewer patients may get better online reviews than physicians who have higher-volume practices, a study of U.S. urologists suggests.<div class=\\\"feedflare\\\">\\n<a href=\\\"http://feeds.reuters.com/~ff/reuters/healthNews?a=n5bPNm_JrKs:pagpjIVit6I:yIl2AUoC8zA\\\"><img src=\\\"http://feeds.feedburner.com/~ff/reuters/healthNews?d=yIl2AUoC8zA\\\" border=\\\"0\\\"></img></a> <a href=\\\"http://feeds.reuters.com/~ff/reuters/healthNews?a=n5bPNm_JrKs:pagpjIVit6I:F7zBnMyn0Lo\\\"><img src=\\\"http://feeds.feedburner.com/~ff/reuters/healthNews?i=n5bPNm_JrKs:pagpjIVit6I:F7zBnMyn0Lo\\\" border=\\\"0\\\"></img></a> <a href=\\\"http://feeds.reuters.com/~ff/reuters/healthNews?a=n5bPNm_JrKs:pagpjIVit6I:V_sGLiPBpWU\\\"><img src=\\\"http://feeds.feedburner.com/~ff/reuters/healthNews?i=n5bPNm_JrKs:pagpjIVit6I:V_sGLiPBpWU\\\" border=\\\"0\\\"></img></a>\\n</div><img src=\\\"http://feeds.feedburner.com/~r/reuters/healthNews/~4/n5bPNm_JrKs\\\" height=\\\"1\\\" width=\\\"1\\\" alt=\\\"\\\"/>\"                                                                                                                                                                                    │\n",
       "│ 91  │ \"NEW YORK (Reuters) - A U.S. prosecutor on Friday attacked a claim by President Donald Trump's longtime personal lawyer Michael Cohen that many of the materials seized this week in FBI raids on Cohen's office and home as part of a criminal investigation should remain private.<div class=\\\"feedflare\\\">\\n<a href=\\\"http://feeds.reuters.com/~ff/Reuters/PoliticsNews?a=dlaITiwYtJQ:scNDEgG4vv0:yIl2AUoC8zA\\\"><img src=\\\"http://feeds.feedburner.com/~ff/Reuters/PoliticsNews?d=yIl2AUoC8zA\\\" border=\\\"0\\\"></img></a> <a href=\\\"http://feeds.reuters.com/~ff/Reuters/PoliticsNews?a=dlaITiwYtJQ:scNDEgG4vv0:F7zBnMyn0Lo\\\"><img src=\\\"http://feeds.feedburner.com/~ff/Reuters/PoliticsNews?i=dlaITiwYtJQ:scNDEgG4vv0:F7zBnMyn0Lo\\\" border=\\\"0\\\"></img></a> <a href=\\\"http://feeds.reuters.com/~ff/Reuters/PoliticsNews?a=dlaITiwYtJQ:scNDEgG4vv0:V_sGLiPBpWU\\\"><img src=\\\"http://feeds.feedburner.com/~ff/Reuters/PoliticsNews?i=dlaITiwYtJQ:scNDEgG4vv0:V_sGLiPBpWU\\\" border=\\\"0\\\"></img></a>\\n</div><img src=\\\"http://feeds.feedburner.com/~r/Reuters/PoliticsNews/~4/dlaITiwYtJQ\\\" height=\\\"1\\\" width=\\\"1\\\" alt=\\\"\\\"/>\"                                                         │\n",
       "│ 92  │ \"WASHINGTON/NEW YORK (Reuters) - President Donald Trump attacked James Comey as a \\\"weak and untruthful slime ball\\\" on Friday after the fired former FBI director castigated him as an unethical liar and likened him to a mob moss in a searing new memoir.<div class=\\\"feedflare\\\">\\n<a href=\\\"http://feeds.reuters.com/~ff/Reuters/PoliticsNews?a=2qm974nWj2Y:MR6M979Hd7Q:yIl2AUoC8zA\\\"><img src=\\\"http://feeds.feedburner.com/~ff/Reuters/PoliticsNews?d=yIl2AUoC8zA\\\" border=\\\"0\\\"></img></a> <a href=\\\"http://feeds.reuters.com/~ff/Reuters/PoliticsNews?a=2qm974nWj2Y:MR6M979Hd7Q:F7zBnMyn0Lo\\\"><img src=\\\"http://feeds.feedburner.com/~ff/Reuters/PoliticsNews?i=2qm974nWj2Y:MR6M979Hd7Q:F7zBnMyn0Lo\\\" border=\\\"0\\\"></img></a> <a href=\\\"http://feeds.reuters.com/~ff/Reuters/PoliticsNews?a=2qm974nWj2Y:MR6M979Hd7Q:V_sGLiPBpWU\\\"><img src=\\\"http://feeds.feedburner.com/~ff/Reuters/PoliticsNews?i=2qm974nWj2Y:MR6M979Hd7Q:V_sGLiPBpWU\\\" border=\\\"0\\\"></img></a>\\n</div><img src=\\\"http://feeds.feedburner.com/~r/Reuters/PoliticsNews/~4/2qm974nWj2Y\\\" height=\\\"1\\\" width=\\\"1\\\" alt=\\\"\\\"/>\"                                                                                  │\n",
       "│ 93  │ \"WASHINGTON/TOKYO (Reuters) - U.S. President Donald Trump said the United States would only join the Trans Pacific Partnership, a multinational trade deal his administration walked away from last year, if it offered \\\"substantially better\\\" terms than those provided under previous negotiations.<div class=\\\"feedflare\\\">\\n<a href=\\\"http://feeds.reuters.com/~ff/Reuters/PoliticsNews?a=0C0r9bzDKEc:Spna4Fkez2g:yIl2AUoC8zA\\\"><img src=\\\"http://feeds.feedburner.com/~ff/Reuters/PoliticsNews?d=yIl2AUoC8zA\\\" border=\\\"0\\\"></img></a> <a href=\\\"http://feeds.reuters.com/~ff/Reuters/PoliticsNews?a=0C0r9bzDKEc:Spna4Fkez2g:F7zBnMyn0Lo\\\"><img src=\\\"http://feeds.feedburner.com/~ff/Reuters/PoliticsNews?i=0C0r9bzDKEc:Spna4Fkez2g:F7zBnMyn0Lo\\\" border=\\\"0\\\"></img></a> <a href=\\\"http://feeds.reuters.com/~ff/Reuters/PoliticsNews?a=0C0r9bzDKEc:Spna4Fkez2g:V_sGLiPBpWU\\\"><img src=\\\"http://feeds.feedburner.com/~ff/Reuters/PoliticsNews?i=0C0r9bzDKEc:Spna4Fkez2g:V_sGLiPBpWU\\\" border=\\\"0\\\"></img></a>\\n</div><img src=\\\"http://feeds.feedburner.com/~r/Reuters/PoliticsNews/~4/0C0r9bzDKEc\\\" height=\\\"1\\\" width=\\\"1\\\" alt=\\\"\\\"/>\"                                        │\n",
       "│ 94  │ \"WASHINGTON (Reuters) - President Donald Trump is pressing for a more aggressive U.S. strike against Syria than military chiefs have recommended as he adopts a tougher stance against Russian President Vladimir Putin, whose support for Syria’s government has allowed it to crush opposition forces, U.S. officials said.<div class=\\\"feedflare\\\">\\n<a href=\\\"http://feeds.reuters.com/~ff/Reuters/PoliticsNews?a=KZyDjhwbQoI:orgN_RFmv_Y:yIl2AUoC8zA\\\"><img src=\\\"http://feeds.feedburner.com/~ff/Reuters/PoliticsNews?d=yIl2AUoC8zA\\\" border=\\\"0\\\"></img></a> <a href=\\\"http://feeds.reuters.com/~ff/Reuters/PoliticsNews?a=KZyDjhwbQoI:orgN_RFmv_Y:F7zBnMyn0Lo\\\"><img src=\\\"http://feeds.feedburner.com/~ff/Reuters/PoliticsNews?i=KZyDjhwbQoI:orgN_RFmv_Y:F7zBnMyn0Lo\\\" border=\\\"0\\\"></img></a> <a href=\\\"http://feeds.reuters.com/~ff/Reuters/PoliticsNews?a=KZyDjhwbQoI:orgN_RFmv_Y:V_sGLiPBpWU\\\"><img src=\\\"http://feeds.feedburner.com/~ff/Reuters/PoliticsNews?i=KZyDjhwbQoI:orgN_RFmv_Y:V_sGLiPBpWU\\\" border=\\\"0\\\"></img></a>\\n</div><img src=\\\"http://feeds.feedburner.com/~r/Reuters/PoliticsNews/~4/KZyDjhwbQoI\\\" height=\\\"1\\\" width=\\\"1\\\" alt=\\\"\\\"/>\"                │\n",
       "│ 95  │ \"WASHINGTON (Reuters) - A Republican-led House of Representatives committee wrote to  Environmental Protection Agency Administrator Scott Pruitt on Friday to demand interviews with five top aides, including his security chief.<div class=\\\"feedflare\\\">\\n<a href=\\\"http://feeds.reuters.com/~ff/Reuters/PoliticsNews?a=pWdsN37a9hM:97__8_SSLos:yIl2AUoC8zA\\\"><img src=\\\"http://feeds.feedburner.com/~ff/Reuters/PoliticsNews?d=yIl2AUoC8zA\\\" border=\\\"0\\\"></img></a> <a href=\\\"http://feeds.reuters.com/~ff/Reuters/PoliticsNews?a=pWdsN37a9hM:97__8_SSLos:F7zBnMyn0Lo\\\"><img src=\\\"http://feeds.feedburner.com/~ff/Reuters/PoliticsNews?i=pWdsN37a9hM:97__8_SSLos:F7zBnMyn0Lo\\\" border=\\\"0\\\"></img></a> <a href=\\\"http://feeds.reuters.com/~ff/Reuters/PoliticsNews?a=pWdsN37a9hM:97__8_SSLos:V_sGLiPBpWU\\\"><img src=\\\"http://feeds.feedburner.com/~ff/Reuters/PoliticsNews?i=pWdsN37a9hM:97__8_SSLos:V_sGLiPBpWU\\\" border=\\\"0\\\"></img></a>\\n</div><img src=\\\"http://feeds.feedburner.com/~r/Reuters/PoliticsNews/~4/pWdsN37a9hM\\\" height=\\\"1\\\" width=\\\"1\\\" alt=\\\"\\\"/>\"                                                                                                           │\n",
       "│ 96  │ \"WASHINGTON (Reuters) - President Donald Trump will lift his administration's plans for a possible crackdown on states that have legalized marijuana after talks with a Colorado senator, the White House said on Friday, an action that undercuts U.S. Attorney General Jeff Sessions.<div class=\\\"feedflare\\\">\\n<a href=\\\"http://feeds.reuters.com/~ff/Reuters/PoliticsNews?a=1RvqyoNE0Ek:gV7zFmOoG6k:yIl2AUoC8zA\\\"><img src=\\\"http://feeds.feedburner.com/~ff/Reuters/PoliticsNews?d=yIl2AUoC8zA\\\" border=\\\"0\\\"></img></a> <a href=\\\"http://feeds.reuters.com/~ff/Reuters/PoliticsNews?a=1RvqyoNE0Ek:gV7zFmOoG6k:F7zBnMyn0Lo\\\"><img src=\\\"http://feeds.feedburner.com/~ff/Reuters/PoliticsNews?i=1RvqyoNE0Ek:gV7zFmOoG6k:F7zBnMyn0Lo\\\" border=\\\"0\\\"></img></a> <a href=\\\"http://feeds.reuters.com/~ff/Reuters/PoliticsNews?a=1RvqyoNE0Ek:gV7zFmOoG6k:V_sGLiPBpWU\\\"><img src=\\\"http://feeds.feedburner.com/~ff/Reuters/PoliticsNews?i=1RvqyoNE0Ek:gV7zFmOoG6k:V_sGLiPBpWU\\\" border=\\\"0\\\"></img></a>\\n</div><img src=\\\"http://feeds.feedburner.com/~r/Reuters/PoliticsNews/~4/1RvqyoNE0Ek\\\" height=\\\"1\\\" width=\\\"1\\\" alt=\\\"\\\"/>\"                                                      │\n",
       "│ 97  │ \"WASHINGTON (Reuters) - The U.S. Department of Justice's inspector general released a report on Friday concluding that former FBI Deputy Director Andrew McCabe misled investigators about a decision to break with the agency's standard policy and inform a journalist about a probe into the Clinton Foundation in 2016.<div class=\\\"feedflare\\\">\\n<a href=\\\"http://feeds.reuters.com/~ff/Reuters/PoliticsNews?a=9CfHB88VUIU:ga7ZMu7Rm48:yIl2AUoC8zA\\\"><img src=\\\"http://feeds.feedburner.com/~ff/Reuters/PoliticsNews?d=yIl2AUoC8zA\\\" border=\\\"0\\\"></img></a> <a href=\\\"http://feeds.reuters.com/~ff/Reuters/PoliticsNews?a=9CfHB88VUIU:ga7ZMu7Rm48:F7zBnMyn0Lo\\\"><img src=\\\"http://feeds.feedburner.com/~ff/Reuters/PoliticsNews?i=9CfHB88VUIU:ga7ZMu7Rm48:F7zBnMyn0Lo\\\" border=\\\"0\\\"></img></a> <a href=\\\"http://feeds.reuters.com/~ff/Reuters/PoliticsNews?a=9CfHB88VUIU:ga7ZMu7Rm48:V_sGLiPBpWU\\\"><img src=\\\"http://feeds.feedburner.com/~ff/Reuters/PoliticsNews?i=9CfHB88VUIU:ga7ZMu7Rm48:V_sGLiPBpWU\\\" border=\\\"0\\\"></img></a>\\n</div><img src=\\\"http://feeds.feedburner.com/~r/Reuters/PoliticsNews/~4/9CfHB88VUIU\\\" height=\\\"1\\\" width=\\\"1\\\" alt=\\\"\\\"/>\"                  │\n",
       "│ 98  │ \"WASHINGTON (Reuters) - U.S. President Donald Trump's personal lawyer arranged for a \\$1.6 million payment to a Playboy Playmate to keep secret her sexual relationship with Republican fundraiser and Trump ally Elliott Broidy, during which she became pregnant, a person familiar with the matter said on Friday.<div class=\\\"feedflare\\\">\\n<a href=\\\"http://feeds.reuters.com/~ff/Reuters/PoliticsNews?a=7c8aUgiASxg:MuIqJ3Tcce4:yIl2AUoC8zA\\\"><img src=\\\"http://feeds.feedburner.com/~ff/Reuters/PoliticsNews?d=yIl2AUoC8zA\\\" border=\\\"0\\\"></img></a> <a href=\\\"http://feeds.reuters.com/~ff/Reuters/PoliticsNews?a=7c8aUgiASxg:MuIqJ3Tcce4:F7zBnMyn0Lo\\\"><img src=\\\"http://feeds.feedburner.com/~ff/Reuters/PoliticsNews?i=7c8aUgiASxg:MuIqJ3Tcce4:F7zBnMyn0Lo\\\" border=\\\"0\\\"></img></a> <a href=\\\"http://feeds.reuters.com/~ff/Reuters/PoliticsNews?a=7c8aUgiASxg:MuIqJ3Tcce4:V_sGLiPBpWU\\\"><img src=\\\"http://feeds.feedburner.com/~ff/Reuters/PoliticsNews?i=7c8aUgiASxg:MuIqJ3Tcce4:V_sGLiPBpWU\\\" border=\\\"0\\\"></img></a>\\n</div><img src=\\\"http://feeds.feedburner.com/~r/Reuters/PoliticsNews/~4/7c8aUgiASxg\\\" height=\\\"1\\\" width=\\\"1\\\" alt=\\\"\\\"/>\"                         │\n",
       "│ 99  │ \"WASHINGTON (Reuters) - The U.S. special counsel in the Russia probe has evidence that President Donald Trump's personal lawyer Michael Cohen traveled to Prague in 2016, refuting Cohen's claim that he never visited the Czech capital and bolstering an intelligence dossier that first described the trip, McClatchy reported on Friday.<div class=\\\"feedflare\\\">\\n<a href=\\\"http://feeds.reuters.com/~ff/Reuters/PoliticsNews?a=H6u49SY4HHQ:vnT_qVd1t9s:yIl2AUoC8zA\\\"><img src=\\\"http://feeds.feedburner.com/~ff/Reuters/PoliticsNews?d=yIl2AUoC8zA\\\" border=\\\"0\\\"></img></a> <a href=\\\"http://feeds.reuters.com/~ff/Reuters/PoliticsNews?a=H6u49SY4HHQ:vnT_qVd1t9s:F7zBnMyn0Lo\\\"><img src=\\\"http://feeds.feedburner.com/~ff/Reuters/PoliticsNews?i=H6u49SY4HHQ:vnT_qVd1t9s:F7zBnMyn0Lo\\\" border=\\\"0\\\"></img></a> <a href=\\\"http://feeds.reuters.com/~ff/Reuters/PoliticsNews?a=H6u49SY4HHQ:vnT_qVd1t9s:V_sGLiPBpWU\\\"><img src=\\\"http://feeds.feedburner.com/~ff/Reuters/PoliticsNews?i=H6u49SY4HHQ:vnT_qVd1t9s:V_sGLiPBpWU\\\" border=\\\"0\\\"></img></a>\\n</div><img src=\\\"http://feeds.feedburner.com/~r/Reuters/PoliticsNews/~4/H6u49SY4HHQ\\\" height=\\\"1\\\" width=\\\"1\\\" alt=\\\"\\\"/>\" │\n",
       "│ 100 │ \"WASHINGTON (Reuters) - The U.S. House of Representatives voted on Friday to name the Federal Reserve as the primary regulator for the “Volcker Rule,” which bars banks from speculative trading.<div class=\\\"feedflare\\\">\\n<a href=\\\"http://feeds.reuters.com/~ff/Reuters/PoliticsNews?a=eJkhBKEqWdY:Y-29TuwRwzM:yIl2AUoC8zA\\\"><img src=\\\"http://feeds.feedburner.com/~ff/Reuters/PoliticsNews?d=yIl2AUoC8zA\\\" border=\\\"0\\\"></img></a> <a href=\\\"http://feeds.reuters.com/~ff/Reuters/PoliticsNews?a=eJkhBKEqWdY:Y-29TuwRwzM:F7zBnMyn0Lo\\\"><img src=\\\"http://feeds.feedburner.com/~ff/Reuters/PoliticsNews?i=eJkhBKEqWdY:Y-29TuwRwzM:F7zBnMyn0Lo\\\" border=\\\"0\\\"></img></a> <a href=\\\"http://feeds.reuters.com/~ff/Reuters/PoliticsNews?a=eJkhBKEqWdY:Y-29TuwRwzM:V_sGLiPBpWU\\\"><img src=\\\"http://feeds.feedburner.com/~ff/Reuters/PoliticsNews?i=eJkhBKEqWdY:Y-29TuwRwzM:V_sGLiPBpWU\\\" border=\\\"0\\\"></img></a>\\n</div><img src=\\\"http://feeds.feedburner.com/~r/Reuters/PoliticsNews/~4/eJkhBKEqWdY\\\" height=\\\"1\\\" width=\\\"1\\\" alt=\\\"\\\"/>\"                                                                                                                                            │\n",
       "\n",
       "│ Row │ Short_description                                                                                                                                                                                                                                                                                                      │\n",
       "├─────┼────────────────────────────────────────────────────────────────────────────────────────────────────────────────────────────────────────────────────────────────────────────────────────────────────────────────────────────────────────────────────────────────────────────────────────────────────────────────────────┤\n",
       "│ 1   │ \"Financial stocks led a drop on Wall Street on Friday, as results from big banks failed to enthuse and geopolitical tensions in Syria and Russia further unnerved investors.\"                                                                                                                                          │\n",
       "│ 2   │ \"Lucas Strom, who runs a century-old family farm in rural Illinois, canceled an order to buy a new \\$71,000 grain storage bin last month - after the seller raised the price 5 percent in a day.\"                                                                                                                       │\n",
       "│ 3   │ \"Banks have not reaped the full benefit of U.S. tax cuts, Wall Street executives said on Friday after a string of quarterly results, with expected business growth and higher consumer spending yet to materialize.\"                                                                                                   │\n",
       "│ 4   │ \"Two U.S. regulators have proposed Wells Fargo & Co  pay \\$1 billion in penalties to resolve probes into auto insurance and mortgage lending abuses at the third largest U.S. bank, overshadowing its first quarter results.\"                                                                                           │\n",
       "│ 5   │ \"Tesla Inc  will be profitable in the third and fourth quarters of this year and will not have to raise any money from investors, billionaire Chief Executive Elon Musk said on Friday, driving shares in the electric carmaker higher.\"                                                                               │\n",
       "│ 6   │ \"Bratz doll maker MGA Entertainment said on Friday its billionaire founder and chief executive, Isaac Larian, had made an \\$890 million bid for Toys 'R' Us stores in the United States and Canada.\"                                                                                                                    │\n",
       "│ 7   │ \"JPMorgan Chase & Co's  quarterly profit fell short of Wall Street expectations on Friday as lower revenue from investment banking ate into gains from stock trading and higher interest rates.\"                                                                                                                       │\n",
       "│ 8   │ \"Wells Fargo & Co  believes the U.S. government, rather than banks, should set rules to promote gun safety, its finance chief said on Friday.\"                                                                                                                                                                         │\n",
       "│ 9   │ \"Citigroup Inc  reported a higher-than-expected quarterly profit on Friday, driven by strength in its consumer banking business and a surge in equities trading.\"                                                                                                                                                      │\n",
       "│ 10  │ \"U.S. President Donald Trump on Thursday ordered the creation of a task force to study the U.S. Postal Service and its financial difficulties, after recently claiming without evidence that deliveries for Amazon.com Inc  were costing the service money.\"                                                           │\n",
       "│ 11  │ \"Formula One world champion Lewis Hamilton edged out Kimi Raikkonen at the top of the timesheets as Ferrari ended the opening day of practice for Sunday’s Chinese Grand Prix hot on pacesetter Mercedes’ heels.\"                                                                                                      │\n",
       "⋮\n",
       "│ 89  │ \"Although religiosity is generally tied to reduced suicide risk, the opposite may be true for some young lesbian, gay and questioning adults, researchers say.\"                                                                                                                                                        │\n",
       "│ 90  │ \"Doctors who see fewer patients may get better online reviews than physicians who have higher-volume practices, a study of U.S. urologists suggests.\"                                                                                                                                                                  │\n",
       "│ 91  │ \"A U.S. prosecutor on Friday attacked a claim by President Donald Trump's longtime personal lawyer Michael Cohen that many of the materials seized this week in FBI raids on Cohen's office and home as part of a criminal investigation should remain private.\"                                                       │\n",
       "│ 92  │ \"President Donald Trump attacked James Comey as a \\\"weak and untruthful slime ball\\\" on Friday after the fired former FBI director castigated him as an unethical liar and likened him to a mob moss in a searing new memoir.\"                                                                                           │\n",
       "│ 93  │ \"U.S. President Donald Trump said the United States would only join the Trans Pacific Partnership, a multinational trade deal his administration walked away from last year, if it offered \\\"substantially better\\\" terms than those provided under previous negotiations.\"                                              │\n",
       "│ 94  │ \"President Donald Trump is pressing for a more aggressive U.S. strike against Syria than military chiefs have recommended as he adopts a tougher stance against Russian President Vladimir Putin, whose support for Syria’s government has allowed it to crush opposition forces, U.S. officials said.\"                │\n",
       "│ 95  │ \"A Republican-led House of Representatives committee wrote to  Environmental Protection Agency Administrator Scott Pruitt on Friday to demand interviews with five top aides, including his security chief.\"                                                                                                           │\n",
       "│ 96  │ \"President Donald Trump will lift his administration's plans for a possible crackdown on states that have legalized marijuana after talks with a Colorado senator, the White House said on Friday, an action that undercuts U.S. Attorney General Jeff Sessions.\"                                                      │\n",
       "│ 97  │ \"The U.S. Department of Justice's inspector general released a report on Friday concluding that former FBI Deputy Director Andrew McCabe misled investigators about a decision to break with the agency's standard policy and inform a journalist about a probe into the Clinton Foundation in 2016.\"                  │\n",
       "│ 98  │ \"U.S. President Donald Trump's personal lawyer arranged for a \\$1.6 million payment to a Playboy Playmate to keep secret her sexual relationship with Republican fundraiser and Trump ally Elliott Broidy, during which she became pregnant, a person familiar with the matter said on Friday.\"                         │\n",
       "│ 99  │ \"The U.S. special counsel in the Russia probe has evidence that President Donald Trump's personal lawyer Michael Cohen traveled to Prague in 2016, refuting Cohen's claim that he never visited the Czech capital and bolstering an intelligence dossier that first described the trip, McClatchy reported on Friday.\" │\n",
       "│ 100 │ \"The U.S. House of Representatives voted on Friday to name the Federal Reserve as the primary regulator for the “Volcker Rule,” which bars banks from speculative trading.\"                                                                                                                                            │\n",
       "\n",
       "│ Row │ Category       │ CategoryID │\n",
       "├─────┼────────────────┼────────────┤\n",
       "│ 1   │ \"businessNews\" │ 0          │\n",
       "│ 2   │ \"businessNews\" │ 0          │\n",
       "│ 3   │ \"businessNews\" │ 0          │\n",
       "│ 4   │ \"businessNews\" │ 0          │\n",
       "│ 5   │ \"businessNews\" │ 0          │\n",
       "│ 6   │ \"businessNews\" │ 0          │\n",
       "│ 7   │ \"businessNews\" │ 0          │\n",
       "│ 8   │ \"businessNews\" │ 0          │\n",
       "│ 9   │ \"businessNews\" │ 0          │\n",
       "│ 10  │ \"businessNews\" │ 0          │\n",
       "│ 11  │ \"sportsNews\"   │ 1          │\n",
       "⋮\n",
       "│ 89  │ \"healthNews\"   │ 3          │\n",
       "│ 90  │ \"healthNews\"   │ 3          │\n",
       "│ 91  │ \"politicsNews\" │ 4          │\n",
       "│ 92  │ \"politicsNews\" │ 4          │\n",
       "│ 93  │ \"politicsNews\" │ 4          │\n",
       "│ 94  │ \"politicsNews\" │ 4          │\n",
       "│ 95  │ \"politicsNews\" │ 4          │\n",
       "│ 96  │ \"politicsNews\" │ 4          │\n",
       "│ 97  │ \"politicsNews\" │ 4          │\n",
       "│ 98  │ \"politicsNews\" │ 4          │\n",
       "│ 99  │ \"politicsNews\" │ 4          │\n",
       "│ 100 │ \"politicsNews\" │ 4          │"
      ]
     },
     "execution_count": 3,
     "metadata": {},
     "output_type": "execute_result"
    }
   ],
   "source": [
    "# Load Dataset\n",
    "df = readtable(\"NewsDataset.csv\")"
   ]
  },
  {
   "cell_type": "code",
   "execution_count": 4,
   "metadata": {},
   "outputs": [
    {
     "data": {
      "text/plain": [
       "(100, 6)"
      ]
     },
     "execution_count": 4,
     "metadata": {},
     "output_type": "execute_result"
    }
   ],
   "source": [
    "# size nrow ncol\n",
    "size(df)"
   ]
  },
  {
   "cell_type": "code",
   "execution_count": 5,
   "metadata": {},
   "outputs": [
    {
     "data": {
      "text/plain": [
       "6-element Array{Symbol,1}:\n",
       " :x                \n",
       " :Title            \n",
       " :Description      \n",
       " :Short_description\n",
       " :Category         \n",
       " :CategoryID       "
      ]
     },
     "execution_count": 5,
     "metadata": {},
     "output_type": "execute_result"
    }
   ],
   "source": [
    "# Columns\n",
    "names(df)"
   ]
  },
  {
   "cell_type": "code",
   "execution_count": 6,
   "metadata": {},
   "outputs": [
    {
     "name": "stdout",
     "output_type": "stream",
     "text": [
      "100×6 DataFrames.DataFrame\n",
      "│ Col # │ Name              │ Eltype │ Missing │\n",
      "├───────┼───────────────────┼────────┼─────────┤\n",
      "│ 1     │ x                 │ Int64  │ 0       │\n",
      "│ 2     │ Title             │ String │ 0       │\n",
      "│ 3     │ Description       │ String │ 0       │\n",
      "│ 4     │ Short_description │ String │ 0       │\n",
      "│ 5     │ Category          │ String │ 0       │\n",
      "│ 6     │ CategoryID        │ Int64  │ 0       │"
     ]
    }
   ],
   "source": [
    "showcols(df)"
   ]
  },
  {
   "cell_type": "code",
   "execution_count": 7,
   "metadata": {},
   "outputs": [
    {
     "data": {
      "text/plain": [
       "false"
      ]
     },
     "execution_count": 7,
     "metadata": {},
     "output_type": "execute_result"
    }
   ],
   "source": [
    "#  checking Missing NA\n",
    "isna.(df)"
   ]
  },
  {
   "cell_type": "markdown",
   "metadata": {},
   "source": [
    "### Feature Extraction"
   ]
  },
  {
   "cell_type": "code",
   "execution_count": 8,
   "metadata": {},
   "outputs": [
    {
     "data": {
      "text/plain": [
       "PyObject CountVectorizer(analyzer=u'word', binary=False, decode_error=u'strict',\n",
       "        dtype=<type 'numpy.int64'>, encoding=u'utf-8', input=u'content',\n",
       "        lowercase=True, max_df=1.0, max_features=None, min_df=1,\n",
       "        ngram_range=(1, 1), preprocessor=None, stop_words=None,\n",
       "        strip_accents=None, token_pattern=u'(?u)\\\\b\\\\w\\\\w+\\\\b',\n",
       "        tokenizer=None, vocabulary=None)"
      ]
     },
     "execution_count": 8,
     "metadata": {},
     "output_type": "execute_result"
    }
   ],
   "source": [
    "# Vectorization \n",
    "@sk_import feature_extraction.text: CountVectorizer\n",
    "vectorizer = CountVectorizer()"
   ]
  },
  {
   "cell_type": "code",
   "execution_count": 9,
   "metadata": {},
   "outputs": [
    {
     "data": {
      "text/plain": [
       "100-element DataArrays.DataArray{String,1}:\n",
       " \"Financial stocks led a drop on Wall Street on Friday, as results from big banks failed to enthuse and geopolitical tensions in Syria and Russia further unnerved investors.\"                                                                                                                                         \n",
       " \"Lucas Strom, who runs a century-old family farm in rural Illinois, canceled an order to buy a new \\$71,000 grain storage bin last month - after the seller raised the price 5 percent in a day.\"                                                                                                                     \n",
       " \"Banks have not reaped the full benefit of U.S. tax cuts, Wall Street executives said on Friday after a string of quarterly results, with expected business growth and higher consumer spending yet to materialize.\"                                                                                                  \n",
       " \"Two U.S. regulators have proposed Wells Fargo & Co  pay \\$1 billion in penalties to resolve probes into auto insurance and mortgage lending abuses at the third largest U.S. bank, overshadowing its first quarter results.\"                                                                                         \n",
       " \"Tesla Inc  will be profitable in the third and fourth quarters of this year and will not have to raise any money from investors, billionaire Chief Executive Elon Musk said on Friday, driving shares in the electric carmaker higher.\"                                                                              \n",
       " \"Bratz doll maker MGA Entertainment said on Friday its billionaire founder and chief executive, Isaac Larian, had made an \\$890 million bid for Toys 'R' Us stores in the United States and Canada.\"                                                                                                                  \n",
       " \"JPMorgan Chase & Co's  quarterly profit fell short of Wall Street expectations on Friday as lower revenue from investment banking ate into gains from stock trading and higher interest rates.\"                                                                                                                      \n",
       " \"Wells Fargo & Co  believes the U.S. government, rather than banks, should set rules to promote gun safety, its finance chief said on Friday.\"                                                                                                                                                                        \n",
       " \"Citigroup Inc  reported a higher-than-expected quarterly profit on Friday, driven by strength in its consumer banking business and a surge in equities trading.\"                                                                                                                                                     \n",
       " \"U.S. President Donald Trump on Thursday ordered the creation of a task force to study the U.S. Postal Service and its financial difficulties, after recently claiming without evidence that deliveries for Amazon.com Inc  were costing the service money.\"                                                          \n",
       " \"Formula One world champion Lewis Hamilton edged out Kimi Raikkonen at the top of the timesheets as Ferrari ended the opening day of practice for Sunday’s Chinese Grand Prix hot on pacesetter Mercedes’ heels.\"                                                                                                     \n",
       " \"The NBA postseason will have a distinct international flair with a record 62 foreign born players from 33 countries chasing a championship ring, the league said on Thursday.\"                                                                                                                                       \n",
       " \"Formula One's commercial rights holders want a decision on post-2020 engine regulations to be decided by the end of May, Ferrari team-principal Maurizio Arrivabene told reporters on Friday.\"                                                                                                                       \n",
       " ⋮                                                                                                                                                                                                                                                                                                                     \n",
       " \"Although religiosity is generally tied to reduced suicide risk, the opposite may be true for some young lesbian, gay and questioning adults, researchers say.\"                                                                                                                                                       \n",
       " \"Doctors who see fewer patients may get better online reviews than physicians who have higher-volume practices, a study of U.S. urologists suggests.\"                                                                                                                                                                 \n",
       " \"A U.S. prosecutor on Friday attacked a claim by President Donald Trump's longtime personal lawyer Michael Cohen that many of the materials seized this week in FBI raids on Cohen's office and home as part of a criminal investigation should remain private.\"                                                      \n",
       " \"President Donald Trump attacked James Comey as a \\\"weak and untruthful slime ball\\\" on Friday after the fired former FBI director castigated him as an unethical liar and likened him to a mob moss in a searing new memoir.\"                                                                                        \n",
       " \"U.S. President Donald Trump said the United States would only join the Trans Pacific Partnership, a multinational trade deal his administration walked away from last year, if it offered \\\"substantially better\\\" terms than those provided under previous negotiations.\"                                           \n",
       " \"President Donald Trump is pressing for a more aggressive U.S. strike against Syria than military chiefs have recommended as he adopts a tougher stance against Russian President Vladimir Putin, whose support for Syria’s government has allowed it to crush opposition forces, U.S. officials said.\"               \n",
       " \"A Republican-led House of Representatives committee wrote to  Environmental Protection Agency Administrator Scott Pruitt on Friday to demand interviews with five top aides, including his security chief.\"                                                                                                          \n",
       " \"President Donald Trump will lift his administration's plans for a possible crackdown on states that have legalized marijuana after talks with a Colorado senator, the White House said on Friday, an action that undercuts U.S. Attorney General Jeff Sessions.\"                                                     \n",
       " \"The U.S. Department of Justice's inspector general released a report on Friday concluding that former FBI Deputy Director Andrew McCabe misled investigators about a decision to break with the agency's standard policy and inform a journalist about a probe into the Clinton Foundation in 2016.\"                 \n",
       " \"U.S. President Donald Trump's personal lawyer arranged for a \\$1.6 million payment to a Playboy Playmate to keep secret her sexual relationship with Republican fundraiser and Trump ally Elliott Broidy, during which she became pregnant, a person familiar with the matter said on Friday.\"                       \n",
       " \"The U.S. special counsel in the Russia probe has evidence that President Donald Trump's personal lawyer Michael Cohen traveled to Prague in 2016, refuting Cohen's claim that he never visited the Czech capital and bolstering an intelligence dossier that first described the trip, McClatchy reported on Friday.\"\n",
       " \"The U.S. House of Representatives voted on Friday to name the Federal Reserve as the primary regulator for the “Volcker Rule,” which bars banks from speculative trading.\"                                                                                                                                           "
      ]
     },
     "execution_count": 9,
     "metadata": {},
     "output_type": "execute_result"
    }
   ],
   "source": [
    "corpus = df[:Short_description]"
   ]
  },
  {
   "cell_type": "code",
   "execution_count": 10,
   "metadata": {},
   "outputs": [
    {
     "data": {
      "text/plain": [
       "PyObject <100x1157 sparse matrix of type '<type 'numpy.int64'>'\n",
       "\twith 3020 stored elements in Compressed Sparse Row format>"
      ]
     },
     "execution_count": 10,
     "metadata": {},
     "output_type": "execute_result"
    }
   ],
   "source": [
    "X = fit_transform!(vectorizer,corpus)"
   ]
  },
  {
   "cell_type": "code",
   "execution_count": 11,
   "metadata": {},
   "outputs": [
    {
     "data": {
      "text/plain": [
       "100-element Array{Int64,1}:\n",
       " 0\n",
       " 0\n",
       " 0\n",
       " 0\n",
       " 0\n",
       " 0\n",
       " 0\n",
       " 0\n",
       " 0\n",
       " 0\n",
       " 1\n",
       " 1\n",
       " 1\n",
       " ⋮\n",
       " 3\n",
       " 3\n",
       " 4\n",
       " 4\n",
       " 4\n",
       " 4\n",
       " 4\n",
       " 4\n",
       " 4\n",
       " 4\n",
       " 4\n",
       " 4"
      ]
     },
     "execution_count": 11,
     "metadata": {},
     "output_type": "execute_result"
    }
   ],
   "source": [
    "y = convert(Array,df[:CategoryID])"
   ]
  },
  {
   "cell_type": "code",
   "execution_count": 12,
   "metadata": {},
   "outputs": [
    {
     "data": {
      "text/plain": [
       "PyObject <function train_test_split at 0x7ff6c4030320>"
      ]
     },
     "execution_count": 12,
     "metadata": {},
     "output_type": "execute_result"
    }
   ],
   "source": [
    "# Split Data\n",
    "@sk_import model_selection: train_test_split"
   ]
  },
  {
   "cell_type": "code",
   "execution_count": 13,
   "metadata": {},
   "outputs": [
    {
     "data": {
      "text/plain": [
       "4-element Array{Any,1}:\n",
       " PyObject <80x1157 sparse matrix of type '<type 'numpy.int64'>'\n",
       "\twith 2398 stored elements in Compressed Sparse Row format>\n",
       " PyObject <20x1157 sparse matrix of type '<type 'numpy.int64'>'\n",
       "\twith 622 stored elements in Compressed Sparse Row format> \n",
       " [0, 3, 2, 4, 2, 1, 4, 4, 0, 1  …  4, 1, 3, 3, 2, 2, 1, 1, 4, 0]                                                           \n",
       " [3, 0, 1, 4, 4, 3, 2, 3, 1, 0, 1, 3, 1, 3, 4, 0, 1, 1, 1, 3]                                                              "
      ]
     },
     "execution_count": 13,
     "metadata": {},
     "output_type": "execute_result"
    }
   ],
   "source": [
    "X_train, X_test, y_train, y_test = train_test_split(X, y, test_size=0.2, random_state=42)"
   ]
  },
  {
   "cell_type": "markdown",
   "metadata": {},
   "source": [
    "### Model Building"
   ]
  },
  {
   "cell_type": "code",
   "execution_count": 14,
   "metadata": {},
   "outputs": [
    {
     "data": {
      "text/plain": [
       "PyObject <class 'sklearn.naive_bayes.MultinomialNB'>"
      ]
     },
     "execution_count": 14,
     "metadata": {},
     "output_type": "execute_result"
    }
   ],
   "source": [
    "# Using Naive Bayes\n",
    "@sk_import naive_bayes: MultinomialNB"
   ]
  },
  {
   "cell_type": "code",
   "execution_count": 15,
   "metadata": {},
   "outputs": [
    {
     "data": {
      "text/plain": [
       "PyObject MultinomialNB(alpha=1.0, class_prior=None, fit_prior=True)"
      ]
     },
     "execution_count": 15,
     "metadata": {},
     "output_type": "execute_result"
    }
   ],
   "source": [
    "model = MultinomialNB()\n",
    "fit!(model, X_train, y_train)"
   ]
  },
  {
   "cell_type": "code",
   "execution_count": 16,
   "metadata": {},
   "outputs": [
    {
     "name": "stdout",
     "output_type": "stream",
     "text": [
      "Accuracy of model for Training: 0.9375\n"
     ]
    }
   ],
   "source": [
    "## Checking The Accuracy of Our Model\n",
    "accuracy = sum(predict(model, X_train) .== y_train) / length(y_train)\n",
    "println(\"Accuracy of model for Training: $accuracy\")"
   ]
  },
  {
   "cell_type": "code",
   "execution_count": 17,
   "metadata": {},
   "outputs": [
    {
     "name": "stdout",
     "output_type": "stream",
     "text": [
      "Accuracy of model for Test Data: 0.65\n"
     ]
    }
   ],
   "source": [
    "## Checking The Accuracy of Our Model\n",
    "accuracy = sum(predict(model, X_test) .== y_test) / length(y_test)\n",
    "println(\"Accuracy of model for Test Data: $accuracy\")"
   ]
  },
  {
   "cell_type": "code",
   "execution_count": 18,
   "metadata": {},
   "outputs": [
    {
     "data": {
      "text/plain": [
       "20-element Array{Int64,1}:\n",
       " 4\n",
       " 0\n",
       " 1\n",
       " 4\n",
       " 4\n",
       " 2\n",
       " 2\n",
       " 0\n",
       " 1\n",
       " 0\n",
       " 2\n",
       " 3\n",
       " 1\n",
       " 3\n",
       " 4\n",
       " 2\n",
       " 4\n",
       " 1\n",
       " 1\n",
       " 4"
      ]
     },
     "execution_count": 18,
     "metadata": {},
     "output_type": "execute_result"
    }
   ],
   "source": [
    "predict(model,X_test)"
   ]
  },
  {
   "cell_type": "code",
   "execution_count": null,
   "metadata": {},
   "outputs": [],
   "source": []
  },
  {
   "cell_type": "code",
   "execution_count": null,
   "metadata": {},
   "outputs": [],
   "source": []
  }
 ],
 "metadata": {
  "kernelspec": {
   "display_name": "Julia 0.6.2",
   "language": "julia",
   "name": "julia-0.6"
  },
  "language_info": {
   "file_extension": ".jl",
   "mimetype": "application/julia",
   "name": "julia",
   "version": "0.6.2"
  }
 },
 "nbformat": 4,
 "nbformat_minor": 2
}
